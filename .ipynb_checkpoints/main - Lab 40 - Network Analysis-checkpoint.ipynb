{
 "cells": [
  {
   "cell_type": "markdown",
   "metadata": {},
   "source": [
    "# Network Analysis Lab\n",
    "\n",
    "Complete the following exercises to help solidify your understanding of network analysis."
   ]
  },
  {
   "cell_type": "code",
   "execution_count": 51,
   "metadata": {
    "ExecuteTime": {
     "end_time": "2020-10-13T22:03:56.680313Z",
     "start_time": "2020-10-13T22:03:56.678006Z"
    }
   },
   "outputs": [],
   "source": [
    "import networkx as nx\n",
    "import nxviz\n",
    "import community\n",
    "import pandas as pd\n",
    "import matplotlib.pyplot as plt"
   ]
  },
  {
   "cell_type": "markdown",
   "metadata": {},
   "source": [
    "## U.S. Mens Basketball Data Set\n",
    "\n",
    "In the `us_mens_basketball.csv` data set, each row represents an single basketball player's participation in a single event at a single Olympics. "
   ]
  },
  {
   "cell_type": "code",
   "execution_count": 25,
   "metadata": {
    "ExecuteTime": {
     "end_time": "2020-10-13T20:53:09.816810Z",
     "start_time": "2020-10-13T20:53:09.809655Z"
    }
   },
   "outputs": [],
   "source": [
    "basketball = pd.read_csv('./data/us_mens_basketball.csv')"
   ]
  },
  {
   "cell_type": "code",
   "execution_count": 26,
   "metadata": {
    "ExecuteTime": {
     "end_time": "2020-10-13T20:53:10.096401Z",
     "start_time": "2020-10-13T20:53:10.080683Z"
    }
   },
   "outputs": [
    {
     "data": {
      "text/html": [
       "<div>\n",
       "<style scoped>\n",
       "    .dataframe tbody tr th:only-of-type {\n",
       "        vertical-align: middle;\n",
       "    }\n",
       "\n",
       "    .dataframe tbody tr th {\n",
       "        vertical-align: top;\n",
       "    }\n",
       "\n",
       "    .dataframe thead th {\n",
       "        text-align: right;\n",
       "    }\n",
       "</style>\n",
       "<table border=\"1\" class=\"dataframe\">\n",
       "  <thead>\n",
       "    <tr style=\"text-align: right;\">\n",
       "      <th></th>\n",
       "      <th>ID</th>\n",
       "      <th>Name</th>\n",
       "      <th>Sex</th>\n",
       "      <th>Age</th>\n",
       "      <th>Height</th>\n",
       "      <th>Weight</th>\n",
       "      <th>Team</th>\n",
       "      <th>NOC</th>\n",
       "      <th>Games</th>\n",
       "      <th>Year</th>\n",
       "      <th>Season</th>\n",
       "      <th>City</th>\n",
       "      <th>Sport</th>\n",
       "      <th>Event</th>\n",
       "      <th>Medal</th>\n",
       "    </tr>\n",
       "  </thead>\n",
       "  <tbody>\n",
       "    <tr>\n",
       "      <th>0</th>\n",
       "      <td>351</td>\n",
       "      <td>Julius Shareef Abdur-Rahim</td>\n",
       "      <td>M</td>\n",
       "      <td>23.0</td>\n",
       "      <td>202.0</td>\n",
       "      <td>104.0</td>\n",
       "      <td>United States</td>\n",
       "      <td>USA</td>\n",
       "      <td>2000 Summer</td>\n",
       "      <td>2000</td>\n",
       "      <td>Summer</td>\n",
       "      <td>Sydney</td>\n",
       "      <td>Basketball</td>\n",
       "      <td>Basketball Men's Basketball</td>\n",
       "      <td>Gold</td>\n",
       "    </tr>\n",
       "    <tr>\n",
       "      <th>1</th>\n",
       "      <td>2636</td>\n",
       "      <td>Stephen Todd \"Steve\" Alford</td>\n",
       "      <td>M</td>\n",
       "      <td>19.0</td>\n",
       "      <td>185.0</td>\n",
       "      <td>74.0</td>\n",
       "      <td>United States</td>\n",
       "      <td>USA</td>\n",
       "      <td>1984 Summer</td>\n",
       "      <td>1984</td>\n",
       "      <td>Summer</td>\n",
       "      <td>Los Angeles</td>\n",
       "      <td>Basketball</td>\n",
       "      <td>Basketball Men's Basketball</td>\n",
       "      <td>Gold</td>\n",
       "    </tr>\n",
       "    <tr>\n",
       "      <th>2</th>\n",
       "      <td>2863</td>\n",
       "      <td>Walter Ray Allen</td>\n",
       "      <td>M</td>\n",
       "      <td>25.0</td>\n",
       "      <td>192.0</td>\n",
       "      <td>93.0</td>\n",
       "      <td>United States</td>\n",
       "      <td>USA</td>\n",
       "      <td>2000 Summer</td>\n",
       "      <td>2000</td>\n",
       "      <td>Summer</td>\n",
       "      <td>Sydney</td>\n",
       "      <td>Basketball</td>\n",
       "      <td>Basketball Men's Basketball</td>\n",
       "      <td>Gold</td>\n",
       "    </tr>\n",
       "    <tr>\n",
       "      <th>3</th>\n",
       "      <td>3874</td>\n",
       "      <td>William Lloyd \"Willie\" Anderson, Jr.</td>\n",
       "      <td>M</td>\n",
       "      <td>21.0</td>\n",
       "      <td>200.0</td>\n",
       "      <td>86.0</td>\n",
       "      <td>United States</td>\n",
       "      <td>USA</td>\n",
       "      <td>1988 Summer</td>\n",
       "      <td>1988</td>\n",
       "      <td>Summer</td>\n",
       "      <td>Seoul</td>\n",
       "      <td>Basketball</td>\n",
       "      <td>Basketball Men's Basketball</td>\n",
       "      <td>Bronze</td>\n",
       "    </tr>\n",
       "    <tr>\n",
       "      <th>4</th>\n",
       "      <td>4505</td>\n",
       "      <td>Carmelo Kyan Anthony</td>\n",
       "      <td>M</td>\n",
       "      <td>20.0</td>\n",
       "      <td>203.0</td>\n",
       "      <td>109.0</td>\n",
       "      <td>United States</td>\n",
       "      <td>USA</td>\n",
       "      <td>2004 Summer</td>\n",
       "      <td>2004</td>\n",
       "      <td>Summer</td>\n",
       "      <td>Athina</td>\n",
       "      <td>Basketball</td>\n",
       "      <td>Basketball Men's Basketball</td>\n",
       "      <td>Bronze</td>\n",
       "    </tr>\n",
       "    <tr>\n",
       "      <th>5</th>\n",
       "      <td>4505</td>\n",
       "      <td>Carmelo Kyan Anthony</td>\n",
       "      <td>M</td>\n",
       "      <td>24.0</td>\n",
       "      <td>203.0</td>\n",
       "      <td>109.0</td>\n",
       "      <td>United States</td>\n",
       "      <td>USA</td>\n",
       "      <td>2008 Summer</td>\n",
       "      <td>2008</td>\n",
       "      <td>Summer</td>\n",
       "      <td>Beijing</td>\n",
       "      <td>Basketball</td>\n",
       "      <td>Basketball Men's Basketball</td>\n",
       "      <td>Gold</td>\n",
       "    </tr>\n",
       "    <tr>\n",
       "      <th>6</th>\n",
       "      <td>4505</td>\n",
       "      <td>Carmelo Kyan Anthony</td>\n",
       "      <td>M</td>\n",
       "      <td>28.0</td>\n",
       "      <td>203.0</td>\n",
       "      <td>109.0</td>\n",
       "      <td>United States</td>\n",
       "      <td>USA</td>\n",
       "      <td>2012 Summer</td>\n",
       "      <td>2012</td>\n",
       "      <td>Summer</td>\n",
       "      <td>London</td>\n",
       "      <td>Basketball</td>\n",
       "      <td>Basketball Men's Basketball</td>\n",
       "      <td>Gold</td>\n",
       "    </tr>\n",
       "    <tr>\n",
       "      <th>7</th>\n",
       "      <td>4505</td>\n",
       "      <td>Carmelo Kyan Anthony</td>\n",
       "      <td>M</td>\n",
       "      <td>32.0</td>\n",
       "      <td>203.0</td>\n",
       "      <td>109.0</td>\n",
       "      <td>United States</td>\n",
       "      <td>USA</td>\n",
       "      <td>2016 Summer</td>\n",
       "      <td>2016</td>\n",
       "      <td>Summer</td>\n",
       "      <td>Rio de Janeiro</td>\n",
       "      <td>Basketball</td>\n",
       "      <td>Basketball Men's Basketball</td>\n",
       "      <td>Gold</td>\n",
       "    </tr>\n",
       "    <tr>\n",
       "      <th>8</th>\n",
       "      <td>5173</td>\n",
       "      <td>Michel Taylor \"Tate\" Armstrong</td>\n",
       "      <td>M</td>\n",
       "      <td>20.0</td>\n",
       "      <td>190.0</td>\n",
       "      <td>77.0</td>\n",
       "      <td>United States</td>\n",
       "      <td>USA</td>\n",
       "      <td>1976 Summer</td>\n",
       "      <td>1976</td>\n",
       "      <td>Summer</td>\n",
       "      <td>Montreal</td>\n",
       "      <td>Basketball</td>\n",
       "      <td>Basketball Men's Basketball</td>\n",
       "      <td>Gold</td>\n",
       "    </tr>\n",
       "    <tr>\n",
       "      <th>9</th>\n",
       "      <td>5212</td>\n",
       "      <td>Jay Joseph Hoyland Arnette</td>\n",
       "      <td>M</td>\n",
       "      <td>21.0</td>\n",
       "      <td>188.0</td>\n",
       "      <td>79.0</td>\n",
       "      <td>United States</td>\n",
       "      <td>USA</td>\n",
       "      <td>1960 Summer</td>\n",
       "      <td>1960</td>\n",
       "      <td>Summer</td>\n",
       "      <td>Roma</td>\n",
       "      <td>Basketball</td>\n",
       "      <td>Basketball Men's Basketball</td>\n",
       "      <td>Gold</td>\n",
       "    </tr>\n",
       "    <tr>\n",
       "      <th>10</th>\n",
       "      <td>5949</td>\n",
       "      <td>Stacey Orlando Augmon</td>\n",
       "      <td>M</td>\n",
       "      <td>20.0</td>\n",
       "      <td>200.0</td>\n",
       "      <td>87.0</td>\n",
       "      <td>United States</td>\n",
       "      <td>USA</td>\n",
       "      <td>1988 Summer</td>\n",
       "      <td>1988</td>\n",
       "      <td>Summer</td>\n",
       "      <td>Seoul</td>\n",
       "      <td>Basketball</td>\n",
       "      <td>Basketball Men's Basketball</td>\n",
       "      <td>Bronze</td>\n",
       "    </tr>\n",
       "    <tr>\n",
       "      <th>11</th>\n",
       "      <td>7040</td>\n",
       "      <td>Vincent Lamont \"Vin\" Baker</td>\n",
       "      <td>M</td>\n",
       "      <td>28.0</td>\n",
       "      <td>207.0</td>\n",
       "      <td>109.0</td>\n",
       "      <td>United States</td>\n",
       "      <td>USA</td>\n",
       "      <td>2000 Summer</td>\n",
       "      <td>2000</td>\n",
       "      <td>Summer</td>\n",
       "      <td>Sydney</td>\n",
       "      <td>Basketball</td>\n",
       "      <td>Basketball Men's Basketball</td>\n",
       "      <td>Gold</td>\n",
       "    </tr>\n",
       "    <tr>\n",
       "      <th>12</th>\n",
       "      <td>7396</td>\n",
       "      <td>Samuel J. \"Sam\" Balter, Jr.</td>\n",
       "      <td>M</td>\n",
       "      <td>26.0</td>\n",
       "      <td>178.0</td>\n",
       "      <td>68.0</td>\n",
       "      <td>United States</td>\n",
       "      <td>USA</td>\n",
       "      <td>1936 Summer</td>\n",
       "      <td>1936</td>\n",
       "      <td>Summer</td>\n",
       "      <td>Berlin</td>\n",
       "      <td>Basketball</td>\n",
       "      <td>Basketball Men's Basketball</td>\n",
       "      <td>Gold</td>\n",
       "    </tr>\n",
       "    <tr>\n",
       "      <th>13</th>\n",
       "      <td>7586</td>\n",
       "      <td>Michael Allen \"Mike\" Bantom</td>\n",
       "      <td>M</td>\n",
       "      <td>20.0</td>\n",
       "      <td>203.0</td>\n",
       "      <td>93.0</td>\n",
       "      <td>United States</td>\n",
       "      <td>USA</td>\n",
       "      <td>1972 Summer</td>\n",
       "      <td>1972</td>\n",
       "      <td>Summer</td>\n",
       "      <td>Munich</td>\n",
       "      <td>Basketball</td>\n",
       "      <td>Basketball Men's Basketball</td>\n",
       "      <td>Silver</td>\n",
       "    </tr>\n",
       "    <tr>\n",
       "      <th>14</th>\n",
       "      <td>7881</td>\n",
       "      <td>Clifford Eugene \"Cliff\" Barker</td>\n",
       "      <td>M</td>\n",
       "      <td>27.0</td>\n",
       "      <td>188.0</td>\n",
       "      <td>84.0</td>\n",
       "      <td>United States</td>\n",
       "      <td>USA</td>\n",
       "      <td>1948 Summer</td>\n",
       "      <td>1948</td>\n",
       "      <td>Summer</td>\n",
       "      <td>London</td>\n",
       "      <td>Basketball</td>\n",
       "      <td>Basketball Men's Basketball</td>\n",
       "      <td>Gold</td>\n",
       "    </tr>\n",
       "  </tbody>\n",
       "</table>\n",
       "</div>"
      ],
      "text/plain": [
       "      ID                                  Name Sex   Age  Height  Weight  \\\n",
       "0    351            Julius Shareef Abdur-Rahim   M  23.0   202.0   104.0   \n",
       "1   2636           Stephen Todd \"Steve\" Alford   M  19.0   185.0    74.0   \n",
       "2   2863                      Walter Ray Allen   M  25.0   192.0    93.0   \n",
       "3   3874  William Lloyd \"Willie\" Anderson, Jr.   M  21.0   200.0    86.0   \n",
       "4   4505                  Carmelo Kyan Anthony   M  20.0   203.0   109.0   \n",
       "5   4505                  Carmelo Kyan Anthony   M  24.0   203.0   109.0   \n",
       "6   4505                  Carmelo Kyan Anthony   M  28.0   203.0   109.0   \n",
       "7   4505                  Carmelo Kyan Anthony   M  32.0   203.0   109.0   \n",
       "8   5173        Michel Taylor \"Tate\" Armstrong   M  20.0   190.0    77.0   \n",
       "9   5212            Jay Joseph Hoyland Arnette   M  21.0   188.0    79.0   \n",
       "10  5949                 Stacey Orlando Augmon   M  20.0   200.0    87.0   \n",
       "11  7040            Vincent Lamont \"Vin\" Baker   M  28.0   207.0   109.0   \n",
       "12  7396           Samuel J. \"Sam\" Balter, Jr.   M  26.0   178.0    68.0   \n",
       "13  7586           Michael Allen \"Mike\" Bantom   M  20.0   203.0    93.0   \n",
       "14  7881        Clifford Eugene \"Cliff\" Barker   M  27.0   188.0    84.0   \n",
       "\n",
       "             Team  NOC        Games  Year  Season            City       Sport  \\\n",
       "0   United States  USA  2000 Summer  2000  Summer          Sydney  Basketball   \n",
       "1   United States  USA  1984 Summer  1984  Summer     Los Angeles  Basketball   \n",
       "2   United States  USA  2000 Summer  2000  Summer          Sydney  Basketball   \n",
       "3   United States  USA  1988 Summer  1988  Summer           Seoul  Basketball   \n",
       "4   United States  USA  2004 Summer  2004  Summer          Athina  Basketball   \n",
       "5   United States  USA  2008 Summer  2008  Summer         Beijing  Basketball   \n",
       "6   United States  USA  2012 Summer  2012  Summer          London  Basketball   \n",
       "7   United States  USA  2016 Summer  2016  Summer  Rio de Janeiro  Basketball   \n",
       "8   United States  USA  1976 Summer  1976  Summer        Montreal  Basketball   \n",
       "9   United States  USA  1960 Summer  1960  Summer            Roma  Basketball   \n",
       "10  United States  USA  1988 Summer  1988  Summer           Seoul  Basketball   \n",
       "11  United States  USA  2000 Summer  2000  Summer          Sydney  Basketball   \n",
       "12  United States  USA  1936 Summer  1936  Summer          Berlin  Basketball   \n",
       "13  United States  USA  1972 Summer  1972  Summer          Munich  Basketball   \n",
       "14  United States  USA  1948 Summer  1948  Summer          London  Basketball   \n",
       "\n",
       "                          Event   Medal  \n",
       "0   Basketball Men's Basketball    Gold  \n",
       "1   Basketball Men's Basketball    Gold  \n",
       "2   Basketball Men's Basketball    Gold  \n",
       "3   Basketball Men's Basketball  Bronze  \n",
       "4   Basketball Men's Basketball  Bronze  \n",
       "5   Basketball Men's Basketball    Gold  \n",
       "6   Basketball Men's Basketball    Gold  \n",
       "7   Basketball Men's Basketball    Gold  \n",
       "8   Basketball Men's Basketball    Gold  \n",
       "9   Basketball Men's Basketball    Gold  \n",
       "10  Basketball Men's Basketball  Bronze  \n",
       "11  Basketball Men's Basketball    Gold  \n",
       "12  Basketball Men's Basketball    Gold  \n",
       "13  Basketball Men's Basketball  Silver  \n",
       "14  Basketball Men's Basketball    Gold  "
      ]
     },
     "execution_count": 26,
     "metadata": {},
     "output_type": "execute_result"
    }
   ],
   "source": [
    "basketball.head(15)"
   ]
  },
  {
   "cell_type": "markdown",
   "metadata": {},
   "source": [
    "## 1. Transform this data set into one that can be turned into a graph where the entities are represented by the Name field and the relationships are represented by whether the players played in the same Olympics together (Games field).\n",
    "\n",
    "Sort descending by the number of pairwise interactions. Which pair of players have competed in the most Olympics together?"
   ]
  },
  {
   "cell_type": "code",
   "execution_count": 27,
   "metadata": {
    "ExecuteTime": {
     "end_time": "2020-10-13T20:53:10.636238Z",
     "start_time": "2020-10-13T20:53:10.633964Z"
    }
   },
   "outputs": [],
   "source": [
    "#Crear el gráfico\n",
    "g = nx.Graph() "
   ]
  },
  {
   "cell_type": "code",
   "execution_count": 28,
   "metadata": {
    "ExecuteTime": {
     "end_time": "2020-10-13T20:53:10.906600Z",
     "start_time": "2020-10-13T20:53:10.902718Z"
    }
   },
   "outputs": [
    {
     "data": {
      "text/plain": [
       "0                Julius Shareef Abdur-Rahim\n",
       "1               Stephen Todd \"Steve\" Alford\n",
       "2                          Walter Ray Allen\n",
       "3      William Lloyd \"Willie\" Anderson, Jr.\n",
       "4                      Carmelo Kyan Anthony\n",
       "                       ...                 \n",
       "217                  Deron Michael Williams\n",
       "218                  Deron Michael Williams\n",
       "219            Howard Earl \"Howie\" Williams\n",
       "220                    George \"Jiff\" Wilson\n",
       "221                     Osie Leon Wood, III\n",
       "Name: Name, Length: 222, dtype: object"
      ]
     },
     "execution_count": 28,
     "metadata": {},
     "output_type": "execute_result"
    }
   ],
   "source": [
    "#Añade nódulos - como cada nombre - fila hay que convertirlo en un nodo, lo hacenos con un for loop\n",
    "\n",
    "#Para ello primero creamos una lista\n",
    "names = basketball.Name\n",
    "names"
   ]
  },
  {
   "cell_type": "code",
   "execution_count": 29,
   "metadata": {
    "ExecuteTime": {
     "end_time": "2020-10-13T20:53:11.189079Z",
     "start_time": "2020-10-13T20:53:11.187257Z"
    }
   },
   "outputs": [],
   "source": [
    "#Creamos una lista vacía\n",
    "nodes = []"
   ]
  },
  {
   "cell_type": "code",
   "execution_count": 30,
   "metadata": {
    "ExecuteTime": {
     "end_time": "2020-10-13T20:53:11.492079Z",
     "start_time": "2020-10-13T20:53:11.457816Z"
    }
   },
   "outputs": [
    {
     "ename": "AttributeError",
     "evalue": "'list' object has no attribute 'add_node'",
     "output_type": "error",
     "traceback": [
      "\u001b[0;31m--------------------\u001b[0m",
      "\u001b[0;31mAttributeError\u001b[0mTraceback (most recent call last)",
      "\u001b[0;32m<ipython-input-30-0e7d8b24a7df>\u001b[0m in \u001b[0;36m<module>\u001b[0;34m\u001b[0m\n\u001b[1;32m      1\u001b[0m \u001b[0;31m#Creamos el for loop\u001b[0m\u001b[0;34m\u001b[0m\u001b[0;34m\u001b[0m\u001b[0;34m\u001b[0m\u001b[0m\n\u001b[1;32m      2\u001b[0m \u001b[0;32mfor\u001b[0m \u001b[0mi\u001b[0m \u001b[0;32min\u001b[0m \u001b[0mnames\u001b[0m\u001b[0;34m:\u001b[0m\u001b[0;34m\u001b[0m\u001b[0;34m\u001b[0m\u001b[0m\n\u001b[0;32m----> 3\u001b[0;31m     \u001b[0mnodes\u001b[0m\u001b[0;34m.\u001b[0m\u001b[0madd_node\u001b[0m\u001b[0;34m(\u001b[0m\u001b[0mi\u001b[0m\u001b[0;34m)\u001b[0m\u001b[0;34m\u001b[0m\u001b[0;34m\u001b[0m\u001b[0m\n\u001b[0m\u001b[1;32m      4\u001b[0m     \u001b[0mprint\u001b[0m\u001b[0;34m(\u001b[0m\u001b[0mnodes\u001b[0m\u001b[0;34m)\u001b[0m\u001b[0;34m\u001b[0m\u001b[0;34m\u001b[0m\u001b[0m\n",
      "\u001b[0;31mAttributeError\u001b[0m: 'list' object has no attribute 'add_node'"
     ]
    }
   ],
   "source": [
    "#Creamos el for loop\n",
    "for i in names:\n",
    "    nodes.add_node(i)  \n",
    "    print(nodes)"
   ]
  },
  {
   "cell_type": "code",
   "execution_count": 31,
   "metadata": {
    "ExecuteTime": {
     "end_time": "2020-10-13T20:53:12.945833Z",
     "start_time": "2020-10-13T20:53:12.944024Z"
    }
   },
   "outputs": [],
   "source": [
    "#Magnífico veo que para cargar datos de un data set como nodos no se hace con un for loop sino con una función que aparece en los apuntes del readme...\n",
    "#Con lo bien que se me dan las funciones! :))))))"
   ]
  },
  {
   "cell_type": "code",
   "execution_count": 32,
   "metadata": {
    "ExecuteTime": {
     "end_time": "2020-10-13T20:53:13.262701Z",
     "start_time": "2020-10-13T20:53:13.258321Z"
    }
   },
   "outputs": [],
   "source": [
    "#Parto de la función que hay en los apuntes:\n",
    "\n",
    "#entidad: nombre de la columna que será el nodo\n",
    "#edte: nombre de la columna que hará de conexión\n",
    "\n",
    "def df_to_graph(df, entity, edge):\n",
    "    \n",
    "    #Creamos una copia del df para luego unirlo al df por la columna edge\n",
    "    df2 = df.copy()\n",
    "    graph_df = pd.merge(df, df2, how='inner', on=edge)\n",
    "    \n",
    "    graph_df = graph_df.groupby([entity + '_x', entity + '_y']).count().reset_index()\n",
    "    \n",
    "    #Quitamos los edges a ellos mismos\n",
    "    graph_df = graph_df[graph_df[entity + '_x'] != graph_df[entity + '_y']]\n",
    "    \n",
    "    if type(edge) == list:\n",
    "        graph_df = graph_df[[entity + '_x', entity + '_y'] + edge]\n",
    "    else:\n",
    "        graph_df = graph_df[[entity + '_x', entity + '_y', edge]]\n",
    "    \n",
    "    return graph_df"
   ]
  },
  {
   "cell_type": "code",
   "execution_count": 33,
   "metadata": {
    "ExecuteTime": {
     "end_time": "2020-10-13T20:53:13.580849Z",
     "start_time": "2020-10-13T20:53:13.558204Z"
    }
   },
   "outputs": [
    {
     "data": {
      "text/html": [
       "<div>\n",
       "<style scoped>\n",
       "    .dataframe tbody tr th:only-of-type {\n",
       "        vertical-align: middle;\n",
       "    }\n",
       "\n",
       "    .dataframe tbody tr th {\n",
       "        vertical-align: top;\n",
       "    }\n",
       "\n",
       "    .dataframe thead th {\n",
       "        text-align: right;\n",
       "    }\n",
       "</style>\n",
       "<table border=\"1\" class=\"dataframe\">\n",
       "  <thead>\n",
       "    <tr style=\"text-align: right;\">\n",
       "      <th></th>\n",
       "      <th>Name_x</th>\n",
       "      <th>Name_y</th>\n",
       "      <th>Games</th>\n",
       "    </tr>\n",
       "  </thead>\n",
       "  <tbody>\n",
       "    <tr>\n",
       "      <th>1557</th>\n",
       "      <td>LeBron Raymone James</td>\n",
       "      <td>Carmelo Kyan Anthony</td>\n",
       "      <td>3</td>\n",
       "    </tr>\n",
       "    <tr>\n",
       "      <th>282</th>\n",
       "      <td>Carmelo Kyan Anthony</td>\n",
       "      <td>LeBron Raymone James</td>\n",
       "      <td>3</td>\n",
       "    </tr>\n",
       "    <tr>\n",
       "      <th>1347</th>\n",
       "      <td>Karl Malone</td>\n",
       "      <td>Charles Wade Barkley</td>\n",
       "      <td>2</td>\n",
       "    </tr>\n",
       "    <tr>\n",
       "      <th>1487</th>\n",
       "      <td>Kobe Bean Bryant</td>\n",
       "      <td>LeBron Raymone James</td>\n",
       "      <td>2</td>\n",
       "    </tr>\n",
       "    <tr>\n",
       "      <th>429</th>\n",
       "      <td>Christopher Paul \"Chris\" Mullin</td>\n",
       "      <td>Michael Jeffrey Jordan</td>\n",
       "      <td>2</td>\n",
       "    </tr>\n",
       "    <tr>\n",
       "      <th>617</th>\n",
       "      <td>Deron Michael Williams</td>\n",
       "      <td>Kobe Bean Bryant</td>\n",
       "      <td>2</td>\n",
       "    </tr>\n",
       "    <tr>\n",
       "      <th>618</th>\n",
       "      <td>Deron Michael Williams</td>\n",
       "      <td>LeBron Raymone James</td>\n",
       "      <td>2</td>\n",
       "    </tr>\n",
       "    <tr>\n",
       "      <th>1206</th>\n",
       "      <td>John Houston Stockton</td>\n",
       "      <td>Charles Wade Barkley</td>\n",
       "      <td>2</td>\n",
       "    </tr>\n",
       "    <tr>\n",
       "      <th>244</th>\n",
       "      <td>Carlos Austin Boozer, Jr.</td>\n",
       "      <td>Dwyane Tyrone Wade, Jr.</td>\n",
       "      <td>2</td>\n",
       "    </tr>\n",
       "    <tr>\n",
       "      <th>1744</th>\n",
       "      <td>Mitchell James \"Mitch\" Richmond, III</td>\n",
       "      <td>David Maurice Robinson</td>\n",
       "      <td>2</td>\n",
       "    </tr>\n",
       "  </tbody>\n",
       "</table>\n",
       "</div>"
      ],
      "text/plain": [
       "                                    Name_x                   Name_y  Games\n",
       "1557                  LeBron Raymone James     Carmelo Kyan Anthony      3\n",
       "282                   Carmelo Kyan Anthony     LeBron Raymone James      3\n",
       "1347                           Karl Malone     Charles Wade Barkley      2\n",
       "1487                      Kobe Bean Bryant     LeBron Raymone James      2\n",
       "429        Christopher Paul \"Chris\" Mullin   Michael Jeffrey Jordan      2\n",
       "617                 Deron Michael Williams         Kobe Bean Bryant      2\n",
       "618                 Deron Michael Williams     LeBron Raymone James      2\n",
       "1206                 John Houston Stockton     Charles Wade Barkley      2\n",
       "244              Carlos Austin Boozer, Jr.  Dwyane Tyrone Wade, Jr.      2\n",
       "1744  Mitchell James \"Mitch\" Richmond, III   David Maurice Robinson      2"
      ]
     },
     "execution_count": 33,
     "metadata": {},
     "output_type": "execute_result"
    }
   ],
   "source": [
    "#Creamos el df data con las columnas de los nodos y una de edge creo\n",
    "\n",
    "data = df_to_graph(basketball, 'Name', 'Games')\n",
    "data.sort_values(['Games'], ascending=False).head(10)"
   ]
  },
  {
   "cell_type": "markdown",
   "metadata": {},
   "source": [
    "## 2. Use the `from_pandas_edgelist` method to turn the data frame into a graph."
   ]
  },
  {
   "cell_type": "code",
   "execution_count": 34,
   "metadata": {
    "ExecuteTime": {
     "end_time": "2020-10-13T20:53:14.346945Z",
     "start_time": "2020-10-13T20:53:14.338358Z"
    }
   },
   "outputs": [],
   "source": [
    "#Creamos el grafo des del dataframe\n",
    "\n",
    "G = nx.from_pandas_edgelist(data, source='Name_x', target='Name_y', edge_attr=True)"
   ]
  },
  {
   "cell_type": "code",
   "execution_count": 35,
   "metadata": {
    "ExecuteTime": {
     "end_time": "2020-10-13T20:53:14.900196Z",
     "start_time": "2020-10-13T20:53:14.804334Z"
    }
   },
   "outputs": [
    {
     "ename": "ImportError",
     "evalue": "cannot import name '_png' from 'matplotlib' (/Users/blancurri/opt/anaconda3/lib/python3.7/site-packages/matplotlib/__init__.py)",
     "output_type": "error",
     "traceback": [
      "\u001b[0;31m--------------------\u001b[0m",
      "\u001b[0;31mImportError\u001b[0mTraceback (most recent call last)",
      "\u001b[0;32m~/opt/anaconda3/lib/python3.7/site-packages/IPython/core/formatters.py\u001b[0m in \u001b[0;36m__call__\u001b[0;34m(self, obj)\u001b[0m\n\u001b[1;32m    339\u001b[0m                 \u001b[0;32mpass\u001b[0m\u001b[0;34m\u001b[0m\u001b[0;34m\u001b[0m\u001b[0m\n\u001b[1;32m    340\u001b[0m             \u001b[0;32melse\u001b[0m\u001b[0;34m:\u001b[0m\u001b[0;34m\u001b[0m\u001b[0;34m\u001b[0m\u001b[0m\n\u001b[0;32m--> 341\u001b[0;31m                 \u001b[0;32mreturn\u001b[0m \u001b[0mprinter\u001b[0m\u001b[0;34m(\u001b[0m\u001b[0mobj\u001b[0m\u001b[0;34m)\u001b[0m\u001b[0;34m\u001b[0m\u001b[0;34m\u001b[0m\u001b[0m\n\u001b[0m\u001b[1;32m    342\u001b[0m             \u001b[0;31m# Finally look for special method names\u001b[0m\u001b[0;34m\u001b[0m\u001b[0;34m\u001b[0m\u001b[0;34m\u001b[0m\u001b[0m\n\u001b[1;32m    343\u001b[0m             \u001b[0mmethod\u001b[0m \u001b[0;34m=\u001b[0m \u001b[0mget_real_method\u001b[0m\u001b[0;34m(\u001b[0m\u001b[0mobj\u001b[0m\u001b[0;34m,\u001b[0m \u001b[0mself\u001b[0m\u001b[0;34m.\u001b[0m\u001b[0mprint_method\u001b[0m\u001b[0;34m)\u001b[0m\u001b[0;34m\u001b[0m\u001b[0;34m\u001b[0m\u001b[0m\n",
      "\u001b[0;32m~/opt/anaconda3/lib/python3.7/site-packages/IPython/core/pylabtools.py\u001b[0m in \u001b[0;36m<lambda>\u001b[0;34m(fig)\u001b[0m\n\u001b[1;32m    246\u001b[0m \u001b[0;34m\u001b[0m\u001b[0m\n\u001b[1;32m    247\u001b[0m     \u001b[0;32mif\u001b[0m \u001b[0;34m'png'\u001b[0m \u001b[0;32min\u001b[0m \u001b[0mformats\u001b[0m\u001b[0;34m:\u001b[0m\u001b[0;34m\u001b[0m\u001b[0;34m\u001b[0m\u001b[0m\n\u001b[0;32m--> 248\u001b[0;31m         \u001b[0mpng_formatter\u001b[0m\u001b[0;34m.\u001b[0m\u001b[0mfor_type\u001b[0m\u001b[0;34m(\u001b[0m\u001b[0mFigure\u001b[0m\u001b[0;34m,\u001b[0m \u001b[0;32mlambda\u001b[0m \u001b[0mfig\u001b[0m\u001b[0;34m:\u001b[0m \u001b[0mprint_figure\u001b[0m\u001b[0;34m(\u001b[0m\u001b[0mfig\u001b[0m\u001b[0;34m,\u001b[0m \u001b[0;34m'png'\u001b[0m\u001b[0;34m,\u001b[0m \u001b[0;34m**\u001b[0m\u001b[0mkwargs\u001b[0m\u001b[0;34m)\u001b[0m\u001b[0;34m)\u001b[0m\u001b[0;34m\u001b[0m\u001b[0;34m\u001b[0m\u001b[0m\n\u001b[0m\u001b[1;32m    249\u001b[0m     \u001b[0;32mif\u001b[0m \u001b[0;34m'retina'\u001b[0m \u001b[0;32min\u001b[0m \u001b[0mformats\u001b[0m \u001b[0;32mor\u001b[0m \u001b[0;34m'png2x'\u001b[0m \u001b[0;32min\u001b[0m \u001b[0mformats\u001b[0m\u001b[0;34m:\u001b[0m\u001b[0;34m\u001b[0m\u001b[0;34m\u001b[0m\u001b[0m\n\u001b[1;32m    250\u001b[0m         \u001b[0mpng_formatter\u001b[0m\u001b[0;34m.\u001b[0m\u001b[0mfor_type\u001b[0m\u001b[0;34m(\u001b[0m\u001b[0mFigure\u001b[0m\u001b[0;34m,\u001b[0m \u001b[0;32mlambda\u001b[0m \u001b[0mfig\u001b[0m\u001b[0;34m:\u001b[0m \u001b[0mretina_figure\u001b[0m\u001b[0;34m(\u001b[0m\u001b[0mfig\u001b[0m\u001b[0;34m,\u001b[0m \u001b[0;34m**\u001b[0m\u001b[0mkwargs\u001b[0m\u001b[0;34m)\u001b[0m\u001b[0;34m)\u001b[0m\u001b[0;34m\u001b[0m\u001b[0;34m\u001b[0m\u001b[0m\n",
      "\u001b[0;32m~/opt/anaconda3/lib/python3.7/site-packages/IPython/core/pylabtools.py\u001b[0m in \u001b[0;36mprint_figure\u001b[0;34m(fig, fmt, bbox_inches, **kwargs)\u001b[0m\n\u001b[1;32m    130\u001b[0m         \u001b[0mFigureCanvasBase\u001b[0m\u001b[0;34m(\u001b[0m\u001b[0mfig\u001b[0m\u001b[0;34m)\u001b[0m\u001b[0;34m\u001b[0m\u001b[0;34m\u001b[0m\u001b[0m\n\u001b[1;32m    131\u001b[0m \u001b[0;34m\u001b[0m\u001b[0m\n\u001b[0;32m--> 132\u001b[0;31m     \u001b[0mfig\u001b[0m\u001b[0;34m.\u001b[0m\u001b[0mcanvas\u001b[0m\u001b[0;34m.\u001b[0m\u001b[0mprint_figure\u001b[0m\u001b[0;34m(\u001b[0m\u001b[0mbytes_io\u001b[0m\u001b[0;34m,\u001b[0m \u001b[0;34m**\u001b[0m\u001b[0mkw\u001b[0m\u001b[0;34m)\u001b[0m\u001b[0;34m\u001b[0m\u001b[0;34m\u001b[0m\u001b[0m\n\u001b[0m\u001b[1;32m    133\u001b[0m     \u001b[0mdata\u001b[0m \u001b[0;34m=\u001b[0m \u001b[0mbytes_io\u001b[0m\u001b[0;34m.\u001b[0m\u001b[0mgetvalue\u001b[0m\u001b[0;34m(\u001b[0m\u001b[0;34m)\u001b[0m\u001b[0;34m\u001b[0m\u001b[0;34m\u001b[0m\u001b[0m\n\u001b[1;32m    134\u001b[0m     \u001b[0;32mif\u001b[0m \u001b[0mfmt\u001b[0m \u001b[0;34m==\u001b[0m \u001b[0;34m'svg'\u001b[0m\u001b[0;34m:\u001b[0m\u001b[0;34m\u001b[0m\u001b[0;34m\u001b[0m\u001b[0m\n",
      "\u001b[0;32m~/opt/anaconda3/lib/python3.7/site-packages/matplotlib/backend_bases.py\u001b[0m in \u001b[0;36mprint_figure\u001b[0;34m(self, filename, dpi, facecolor, edgecolor, orientation, format, bbox_inches, **kwargs)\u001b[0m\n\u001b[1;32m   2063\u001b[0m             \u001b[0;31m# Return a specific canvas class, if requested.\u001b[0m\u001b[0;34m\u001b[0m\u001b[0;34m\u001b[0m\u001b[0;34m\u001b[0m\u001b[0m\n\u001b[1;32m   2064\u001b[0m             canvas_class = (\n\u001b[0;32m-> 2065\u001b[0;31m                 \u001b[0mimportlib\u001b[0m\u001b[0;34m.\u001b[0m\u001b[0mimport_module\u001b[0m\u001b[0;34m(\u001b[0m\u001b[0mcbook\u001b[0m\u001b[0;34m.\u001b[0m\u001b[0m_backend_module_name\u001b[0m\u001b[0;34m(\u001b[0m\u001b[0mbackend\u001b[0m\u001b[0;34m)\u001b[0m\u001b[0;34m)\u001b[0m\u001b[0;34m\u001b[0m\u001b[0;34m\u001b[0m\u001b[0m\n\u001b[0m\u001b[1;32m   2066\u001b[0m                 .FigureCanvas)\n\u001b[1;32m   2067\u001b[0m             \u001b[0;32mif\u001b[0m \u001b[0;32mnot\u001b[0m \u001b[0mhasattr\u001b[0m\u001b[0;34m(\u001b[0m\u001b[0mcanvas_class\u001b[0m\u001b[0;34m,\u001b[0m \u001b[0;34mf\"print_{fmt}\"\u001b[0m\u001b[0;34m)\u001b[0m\u001b[0;34m:\u001b[0m\u001b[0;34m\u001b[0m\u001b[0;34m\u001b[0m\u001b[0m\n",
      "\u001b[0;32m~/opt/anaconda3/lib/python3.7/site-packages/matplotlib/backends/backend_agg.py\u001b[0m in \u001b[0;36mprint_png\u001b[0;34m(self, filename_or_obj, metadata, pil_kwargs, *args, **kwargs)\u001b[0m\n\u001b[1;32m    499\u001b[0m \u001b[0;34m\u001b[0m\u001b[0m\n\u001b[1;32m    500\u001b[0m             \u001b[0;34m.\u001b[0m\u001b[0;34m.\u001b[0m \u001b[0m_PNG\u001b[0m \u001b[0mspecification\u001b[0m\u001b[0;34m:\u001b[0m\u001b[0;31m \u001b[0m\u001b[0;31m\\\u001b[0m\u001b[0;34m\u001b[0m\u001b[0;34m\u001b[0m\u001b[0m\n\u001b[0;32m--> 501\u001b[0;31m                 \u001b[0mhttps\u001b[0m\u001b[0;34m:\u001b[0m\u001b[0;34m//\u001b[0m\u001b[0mwww\u001b[0m\u001b[0;34m.\u001b[0m\u001b[0mw3\u001b[0m\u001b[0;34m.\u001b[0m\u001b[0morg\u001b[0m\u001b[0;34m/\u001b[0m\u001b[0mTR\u001b[0m\u001b[0;34m/\u001b[0m\u001b[0;36m2003\u001b[0m\u001b[0;34m/\u001b[0m\u001b[0mREC\u001b[0m\u001b[0;34m-\u001b[0m\u001b[0mPNG\u001b[0m\u001b[0;34m-\u001b[0m\u001b[0;36m20031110\u001b[0m\u001b[0;34m/\u001b[0m\u001b[0;31m#11keywords\u001b[0m\u001b[0;34m\u001b[0m\u001b[0;34m\u001b[0m\u001b[0m\n\u001b[0m\u001b[1;32m    502\u001b[0m \u001b[0;34m\u001b[0m\u001b[0m\n\u001b[1;32m    503\u001b[0m         \u001b[0mpil_kwargs\u001b[0m \u001b[0;34m:\u001b[0m \u001b[0mdict\u001b[0m\u001b[0;34m,\u001b[0m \u001b[0moptional\u001b[0m\u001b[0;34m\u001b[0m\u001b[0;34m\u001b[0m\u001b[0m\n",
      "\u001b[0;31mImportError\u001b[0m: cannot import name '_png' from 'matplotlib' (/Users/blancurri/opt/anaconda3/lib/python3.7/site-packages/matplotlib/__init__.py)"
     ]
    },
    {
     "data": {
      "text/plain": [
       "<Figure size 432x288 with 1 Axes>"
      ]
     },
     "metadata": {},
     "output_type": "display_data"
    }
   ],
   "source": [
    "#No entiendo por qué no me deja plotearlo\n",
    "\n",
    "nx.draw(G)"
   ]
  },
  {
   "cell_type": "markdown",
   "metadata": {},
   "source": [
    "## 3. Compute and print the following graph statistics for the graph:\n",
    "\n",
    "- Number of nodes\n",
    "- Number of edges\n",
    "- Average degree\n",
    "- Density"
   ]
  },
  {
   "cell_type": "code",
   "execution_count": 36,
   "metadata": {
    "ExecuteTime": {
     "end_time": "2020-10-13T20:54:13.917305Z",
     "start_time": "2020-10-13T20:54:13.914044Z"
    }
   },
   "outputs": [
    {
     "data": {
      "text/plain": [
       "196"
      ]
     },
     "execution_count": 36,
     "metadata": {},
     "output_type": "execute_result"
    }
   ],
   "source": [
    "#Número de nodos: \n",
    "G.number_of_nodes()"
   ]
  },
  {
   "cell_type": "code",
   "execution_count": 38,
   "metadata": {
    "ExecuteTime": {
     "end_time": "2020-10-13T20:54:32.651289Z",
     "start_time": "2020-10-13T20:54:32.648104Z"
    }
   },
   "outputs": [
    {
     "data": {
      "text/plain": [
       "1232"
      ]
     },
     "execution_count": 38,
     "metadata": {},
     "output_type": "execute_result"
    }
   ],
   "source": [
    "#Número de conexiones:\n",
    "G.number_of_edges()"
   ]
  },
  {
   "cell_type": "code",
   "execution_count": 41,
   "metadata": {
    "ExecuteTime": {
     "end_time": "2020-10-13T20:55:57.950273Z",
     "start_time": "2020-10-13T20:55:57.946749Z"
    },
    "scrolled": true
   },
   "outputs": [
    {
     "data": {
      "text/plain": [
       "DegreeView({'Adrian Delano Dantley': 11, 'Ernest \"Ernie\" Grunfeld': 11, 'Kenneth Alan \"Kenny\" Carr': 11, 'Michel Taylor \"Tate\" Armstrong': 11, 'Mitchell William \"Mitch\" Kupchak': 11, 'Philip Jackson \"Phil\" Ford, Jr.': 11, 'Phillip Gregory \"Phil\" Hubbard': 11, 'Scott Glenn May': 11, 'Steven Bernard \"Steve\" Sheppard': 11, 'Thomas Joseph \"Tom\" LaGarde': 11, 'Walter Paul Davis': 11, 'William Quinn Buckner': 11, 'Adrian Howard Smith': 11, 'Burdette Eliele \"Burdie\" Haldorson': 22, 'Darrall Tucker Imhoff': 11, 'Earl Allen Kelley': 11, 'Jay Joseph Hoyland Arnette': 11, 'Jerome Alan \"Jerry\" West': 11, 'Jerry Ray Lucas': 11, 'Lester Everett \"Les\" Lane': 11, 'Oscar Palmer Robertson': 11, 'Robert Lewis \"Bob\" Boozer': 11, 'Terence Gilbert \"Terry\" Dischinger': 11, 'Walter Jones \"Walt\" Bellamy, Jr.': 11, 'Alexander John \"Alex\" Groza': 13, 'Clifford Eugene \"Cliff\" Barker': 13, 'Donald Argee \"Don\" Barksdale': 13, 'Gordon C. Carpenter': 13, 'Jesse Banard Renick': 13, 'Kenneth Herman \"Kenny\" Rollins': 13, 'Lewis William \"Lew\" Beck, Jr.': 13, 'Ralph Milton Beard, Jr.': 13, 'Raymond George \"Ray\" Lumpp': 13, 'Robert Albert \"Bob\" Kurland': 26, 'Robert C. \"R. C.\" Pitts': 13, 'Robert Lloyd Jackson \"Jack\" Robinson': 13, 'Vincent Joseph \"Vince\" Boryla': 13, 'Wallace Clayton \"Wally\" Jones': 13, 'Allan Wade Houston': 11, 'Alonzo Harding Mourning': 11, 'Antonio Keithflen McDyess': 11, 'Gary Dwayne Payton': 22, 'Jason Frederick Kidd': 22, 'Julius Shareef Abdur-Rahim': 11, 'Kevin Maurice Garnett': 11, 'Steven Delano \"Steve\" Smith': 11, 'Timothy Duane \"Tim\" Hardaway': 11, 'Vincent Lamar \"Vince\" Carter': 11, 'Vincent Lamont \"Vin\" Baker': 11, 'Walter Ray Allen': 11, 'Allen Ezail Iverson': 11, \"Amar'e Carsares Stoudemire\": 11, 'Carlos Austin Boozer, Jr.': 19, 'Carmelo Kyan Anthony': 36, 'Chukwuemeka Noubuisi \"Emeka\" Okafor': 11, 'Dwyane Tyrone Wade, Jr.': 19, 'Lamar Joseph Odom': 11, 'LeBron Raymone James': 26, 'Richard Allen Jefferson': 11, 'Shawn Dwayne Marion': 11, 'Stephon Xavier Marbury': 11, 'Timothy Theodore \"Tim\" Duncan': 11, 'Alvin Cyrrale Robertson': 11, 'Christopher Paul \"Chris\" Mullin': 20, 'Jeffrey Stephen \"Jeff\" Turner': 11, 'Jon Francis Koncak': 11, 'Joseph William \"Joe\" Kleine': 11, 'Michael Jeffrey Jordan': 20, 'Osie Leon Wood, III': 11, 'Patrick Aloysius Ewing': 20, 'Samuel Bruce \"Sam\" Perkins': 11, 'Stephen Todd \"Steve\" Alford': 11, 'Vernon \"Vern\" Fleming': 11, 'Wayman Lawrence Tisdale': 11, 'Andre Tyler Iguodala': 11, 'Anthony Marshon Davis, Jr.': 11, 'Christopher Emmanuel \"Chris\" Paul': 18, 'Deron Michael Williams': 18, 'James Edward Harden, Jr.': 11, 'Kevin Wayne Durant': 21, 'Kevin Wesley Love': 11, 'Kobe Bean Bryant': 18, 'Russell Westbrook, Jr.': 11, 'Tyson Cleotis Chandler': 11, 'Anfernee Deon \"Penny\" Hardaway': 11, 'Charles Wade Barkley': 18, 'David Maurice Robinson': 28, 'Grant Henry Hill': 11, 'Hakeem Abdul Olajuwon': 11, 'John Houston Stockton': 18, 'Karl Malone': 18, 'Mitchell James \"Mitch\" Richmond, III': 21, 'Reginald Wayne \"Reggie\" Miller': 11, 'Scottie Maurice Pippen': 18, \"Shaquille Rashuan O'Neal\": 11, 'Arthur Owen \"Art\" Mollner': 13, 'Carl Leslie Shy': 13, 'Carl Stanley Knowles': 13, 'Donald Arthur \"Don\" Piper': 13, 'Duane Alexander Swanson': 13, 'Francis Lee Johnson': 13, 'Frank John Lubin': 13, 'Jack Williamson Ragland': 13, 'John Haskell \"Tex\" Gibbons': 13, 'Joseph Cephis \"Joe\" Fortenberry': 13, 'Ralph English Bishop': 13, 'Samuel J. \"Sam\" Balter, Jr.': 13, 'Willard Theodore Schmidt': 13, 'William John \"Bill\" Wheatley': 13, 'Carl Cecil Cain': 11, 'Charles Frick \"Chuck\" Darling': 11, 'Gilbert \"Gib\" Ford': 11, 'James Patrick \"Jim\" Walsh': 11, 'K. C. Jones': 11, 'Richard James \"Dick\" Boushka': 11, 'Robert Eugene \"Bob\" Jeangerard': 11, 'Ronald Paul \"Ron\" Tomsic': 11, 'William Best \"Billy\" Evans': 11, 'William Fenton \"Bill\" Russell': 11, 'William Marion \"Bill\" Hougland': 24, 'Calvin Bernard \"Cal\" Fowler': 11, 'Charles Thomas \"Charlie\" Scott': 11, 'Donald Francis \"Don\" Dee': 11, 'Glynn Saulters': 11, 'James H. \"Jim\" King': 11, 'John Kenneth \"Ken\" Spain': 11, 'John Richard Clawson': 11, 'Joseph Henry \"Jo-Jo\" White': 11, 'Michael Barnwell \"Mike\" Silliman': 11, 'Michael Thomas \"Mike\" Barrett': 11, 'Spencer Haywood': 11, 'Wilmer Frederick \"Bill\" Hosket': 11, 'Christopher Wesson \"Chris\" Bosh': 11, 'Dwight David Howard': 11, 'Michael Wesley Redd': 11, 'Tayshaun Durell Prince': 11, 'DeMar Darnell DeRozan': 11, 'DeMarcus Amir Cousins': 11, 'Draymond Jamal Green': 11, 'Harrison Bryce Jordan Barnes': 11, 'Hyland DeAndre Jordan, Jr.': 11, 'Jimmy Butler III': 11, 'Klay Alexander Thompson': 11, 'Kyle Lowry': 11, 'Kyrie Andrew Irving': 11, 'Paul George': 11, 'Charles Daniel H. Smith': 11, 'Charles Edward Smith, IV': 11, 'Daniel Lewis \"Dan\" Majerle': 11, 'Daniel Ricardo \"Danny\" Manning': 11, 'Herman \"J. R.\" Reid, Jr.': 11, 'Hersey R. Hawkins, Jr.': 11, 'Jeffrey \"Jeff\" Grayer': 11, 'Stacey Orlando Augmon': 11, 'Vernell Eufaye \"Bimbo\" Coles': 11, 'William Lloyd \"Willie\" Anderson, Jr.': 11, 'Charles Monroe \"Charlie\" Hoag': 13, 'Clyde Edward Lovellette': 13, 'Dan Luther Pippin': 13, 'Frank Reilly McCabe': 13, 'Howard Earl \"Howie\" Williams': 13, 'John Frederick Keller': 13, 'Marcus Ross \"Marc\" Freiberger': 13, 'Melvin Dean Kelley': 13, 'Robert Earl \"Bob\" Kenney': 13, 'Ronald Yngve \"Ron\" Bontemps': 13, 'Victor Wayne Glasgow': 13, 'William Barner \"Bill\" Lienhard': 13, 'Charles Thomas \"Tom\" McMillen': 11, 'Dwight Elmo Jones': 11, 'James Ricardo \"Jim\" Forbes': 11, 'James Turner \"Jim\" Brewer': 11, 'Kenneth Bryan \"Kenny\" Davis': 11, 'Kevin Francis Joyce': 11, 'Michael Allen \"Mike\" Bantom': 11, 'Paul Douglas \"Doug\" Collins': 11, 'Robert Clyde \"Bobby\" Jones': 11, 'Thomas Edward \"Tom\" Henderson': 11, 'Tommy Loren Burleson': 11, 'William Edward \"Ed\" Ratleff': 11, 'Christian Donald Laettner': 11, 'Clyde Austin Drexler': 11, 'Earvin \"Magic\" Johnson, Jr.': 11, 'Larry Joe Bird': 11, 'George \"Jiff\" Wilson': 11, 'Jeffrey Vincent \"Jeff\" Mullins': 11, 'Jerry Franklin Shipp': 11, 'John Paul \"Pete\" McCaffrey': 11, 'Joseph Louis \"Joe\" Caldwell': 11, 'Lawrence Harvey \"Larry\" Brown': 11, 'Lucious Brown \"Luke\" Jackson, Jr.': 11, 'Melvin Grant \"Mel\" Counts': 11, 'Richard Allen \"Dick\" Davies': 11, 'Velvet James \"Jim\" Barnes': 11, 'Walter Raphael \"Walt\" Hazzard': 11, 'William Warren \"Bill\" Bradley': 11})"
      ]
     },
     "execution_count": 41,
     "metadata": {},
     "output_type": "execute_result"
    }
   ],
   "source": [
    "#Media de conexiones por nodo:\n",
    "G.degree()"
   ]
  },
  {
   "cell_type": "code",
   "execution_count": 40,
   "metadata": {
    "ExecuteTime": {
     "end_time": "2020-10-13T20:55:18.146037Z",
     "start_time": "2020-10-13T20:55:18.143165Z"
    }
   },
   "outputs": [
    {
     "data": {
      "text/plain": [
       "0.06446886446886448"
      ]
     },
     "execution_count": 40,
     "metadata": {},
     "output_type": "execute_result"
    }
   ],
   "source": [
    "#Densidad del grafo:\n",
    "nx.density(G)"
   ]
  },
  {
   "cell_type": "markdown",
   "metadata": {},
   "source": [
    "## 4. Compute betweenness centrality for the graph and print the top 5 nodes with the highest centrality."
   ]
  },
  {
   "cell_type": "code",
   "execution_count": 46,
   "metadata": {
    "ExecuteTime": {
     "end_time": "2020-10-13T21:10:42.730876Z",
     "start_time": "2020-10-13T21:10:42.628212Z"
    }
   },
   "outputs": [
    {
     "data": {
      "text/plain": [
       "{'Adrian Delano Dantley': 0.0,\n",
       " 'Ernest \"Ernie\" Grunfeld': 0.0,\n",
       " 'Kenneth Alan \"Kenny\" Carr': 0.0,\n",
       " 'Michel Taylor \"Tate\" Armstrong': 0.0,\n",
       " 'Mitchell William \"Mitch\" Kupchak': 0.0,\n",
       " 'Philip Jackson \"Phil\" Ford, Jr.': 0.0,\n",
       " 'Phillip Gregory \"Phil\" Hubbard': 0.0,\n",
       " 'Scott Glenn May': 0.0,\n",
       " 'Steven Bernard \"Steve\" Sheppard': 0.0,\n",
       " 'Thomas Joseph \"Tom\" LaGarde': 0.0,\n",
       " 'Walter Paul Davis': 0.0,\n",
       " 'William Quinn Buckner': 0.0,\n",
       " 'Adrian Howard Smith': 0.0,\n",
       " 'Burdette Eliele \"Burdie\" Haldorson': 0.021517314300819455,\n",
       " 'Darrall Tucker Imhoff': 0.0,\n",
       " 'Earl Allen Kelley': 0.0,\n",
       " 'Jay Joseph Hoyland Arnette': 0.0,\n",
       " 'Jerome Alan \"Jerry\" West': 0.0,\n",
       " 'Jerry Ray Lucas': 0.0,\n",
       " 'Lester Everett \"Les\" Lane': 0.0,\n",
       " 'Oscar Palmer Robertson': 0.0,\n",
       " 'Robert Lewis \"Bob\" Boozer': 0.0,\n",
       " 'Terence Gilbert \"Terry\" Dischinger': 0.0,\n",
       " 'Walter Jones \"Walt\" Bellamy, Jr.': 0.0,\n",
       " 'Alexander John \"Alex\" Groza': 0.0,\n",
       " 'Clifford Eugene \"Cliff\" Barker': 0.0,\n",
       " 'Donald Argee \"Don\" Barksdale': 0.0,\n",
       " 'Gordon C. Carpenter': 0.0,\n",
       " 'Jesse Banard Renick': 0.0,\n",
       " 'Kenneth Herman \"Kenny\" Rollins': 0.0,\n",
       " 'Lewis William \"Lew\" Beck, Jr.': 0.0,\n",
       " 'Ralph Milton Beard, Jr.': 0.0,\n",
       " 'Raymond George \"Ray\" Lumpp': 0.0,\n",
       " 'Robert Albert \"Bob\" Kurland': 0.024054982817869417,\n",
       " 'Robert C. \"R. C.\" Pitts': 0.0,\n",
       " 'Robert Lloyd Jackson \"Jack\" Robinson': 0.0,\n",
       " 'Vincent Joseph \"Vince\" Boryla': 0.0,\n",
       " 'Wallace Clayton \"Wally\" Jones': 0.0,\n",
       " 'Allan Wade Houston': 0.0,\n",
       " 'Alonzo Harding Mourning': 0.0,\n",
       " 'Antonio Keithflen McDyess': 0.0,\n",
       " 'Gary Dwayne Payton': 0.09193761564895586,\n",
       " 'Jason Frederick Kidd': 0.09135606661379858,\n",
       " 'Julius Shareef Abdur-Rahim': 0.0,\n",
       " 'Kevin Maurice Garnett': 0.0,\n",
       " 'Steven Delano \"Steve\" Smith': 0.0,\n",
       " 'Timothy Duane \"Tim\" Hardaway': 0.0,\n",
       " 'Vincent Lamar \"Vince\" Carter': 0.0,\n",
       " 'Vincent Lamont \"Vin\" Baker': 0.0,\n",
       " 'Walter Ray Allen': 0.0,\n",
       " 'Allen Ezail Iverson': 0.0,\n",
       " \"Amar'e Carsares Stoudemire\": 0.0,\n",
       " 'Carlos Austin Boozer, Jr.': 0.005921226539783241,\n",
       " 'Carmelo Kyan Anthony': 0.04742268041237115,\n",
       " 'Chukwuemeka Noubuisi \"Emeka\" Okafor': 0.0,\n",
       " 'Dwyane Tyrone Wade, Jr.': 0.005921226539783241,\n",
       " 'Lamar Joseph Odom': 0.0,\n",
       " 'LeBron Raymone James': 0.011472376420830014,\n",
       " 'Richard Allen Jefferson': 0.0,\n",
       " 'Shawn Dwayne Marion': 0.0,\n",
       " 'Stephon Xavier Marbury': 0.0,\n",
       " 'Timothy Theodore \"Tim\" Duncan': 0.0,\n",
       " 'Alvin Cyrrale Robertson': 0.0,\n",
       " 'Christopher Paul \"Chris\" Mullin': 0.011578112609040445,\n",
       " 'Jeffrey Stephen \"Jeff\" Turner': 0.0,\n",
       " 'Jon Francis Koncak': 0.0,\n",
       " 'Joseph William \"Joe\" Kleine': 0.0,\n",
       " 'Michael Jeffrey Jordan': 0.011578112609040445,\n",
       " 'Osie Leon Wood, III': 0.0,\n",
       " 'Patrick Aloysius Ewing': 0.011578112609040445,\n",
       " 'Samuel Bruce \"Sam\" Perkins': 0.0,\n",
       " 'Stephen Todd \"Steve\" Alford': 0.0,\n",
       " 'Vernon \"Vern\" Fleming': 0.0,\n",
       " 'Wayman Lawrence Tisdale': 0.0,\n",
       " 'Andre Tyler Iguodala': 0.0,\n",
       " 'Anthony Marshon Davis, Jr.': 0.0,\n",
       " 'Christopher Emmanuel \"Chris\" Paul': 0.004070843246100982,\n",
       " 'Deron Michael Williams': 0.004070843246100982,\n",
       " 'James Edward Harden, Jr.': 0.0,\n",
       " 'Kevin Wayne Durant': 0.0026434047052603755,\n",
       " 'Kevin Wesley Love': 0.0,\n",
       " 'Kobe Bean Bryant': 0.004070843246100982,\n",
       " 'Russell Westbrook, Jr.': 0.0,\n",
       " 'Tyson Cleotis Chandler': 0.0,\n",
       " 'Anfernee Deon \"Penny\" Hardaway': 0.0,\n",
       " 'Charles Wade Barkley': 0.009135606661379853,\n",
       " 'David Maurice Robinson': 0.03266190853819722,\n",
       " 'Grant Henry Hill': 0.0,\n",
       " 'Hakeem Abdul Olajuwon': 0.0,\n",
       " 'John Houston Stockton': 0.009135606661379853,\n",
       " 'Karl Malone': 0.009135606661379853,\n",
       " 'Mitchell James \"Mitch\" Richmond, III': 0.01506740681998414,\n",
       " 'Reginald Wayne \"Reggie\" Miller': 0.0,\n",
       " 'Scottie Maurice Pippen': 0.009135606661379853,\n",
       " \"Shaquille Rashuan O'Neal\": 0.0,\n",
       " 'Arthur Owen \"Art\" Mollner': 0.0,\n",
       " 'Carl Leslie Shy': 0.0,\n",
       " 'Carl Stanley Knowles': 0.0,\n",
       " 'Donald Arthur \"Don\" Piper': 0.0,\n",
       " 'Duane Alexander Swanson': 0.0,\n",
       " 'Francis Lee Johnson': 0.0,\n",
       " 'Frank John Lubin': 0.0,\n",
       " 'Jack Williamson Ragland': 0.0,\n",
       " 'John Haskell \"Tex\" Gibbons': 0.0,\n",
       " 'Joseph Cephis \"Joe\" Fortenberry': 0.0,\n",
       " 'Ralph English Bishop': 0.0,\n",
       " 'Samuel J. \"Sam\" Balter, Jr.': 0.0,\n",
       " 'Willard Theodore Schmidt': 0.0,\n",
       " 'William John \"Bill\" Wheatley': 0.0,\n",
       " 'Carl Cecil Cain': 0.0,\n",
       " 'Charles Frick \"Chuck\" Darling': 0.0,\n",
       " 'Gilbert \"Gib\" Ford': 0.0,\n",
       " 'James Patrick \"Jim\" Walsh': 0.0,\n",
       " 'K. C. Jones': 0.0,\n",
       " 'Richard James \"Dick\" Boushka': 0.0,\n",
       " 'Robert Eugene \"Bob\" Jeangerard': 0.0,\n",
       " 'Ronald Paul \"Ron\" Tomsic': 0.0,\n",
       " 'William Best \"Billy\" Evans': 0.0,\n",
       " 'William Fenton \"Bill\" Russell': 0.0,\n",
       " 'William Marion \"Bill\" Hougland': 0.030240549828178694,\n",
       " 'Calvin Bernard \"Cal\" Fowler': 0.0,\n",
       " 'Charles Thomas \"Charlie\" Scott': 0.0,\n",
       " 'Donald Francis \"Don\" Dee': 0.0,\n",
       " 'Glynn Saulters': 0.0,\n",
       " 'James H. \"Jim\" King': 0.0,\n",
       " 'John Kenneth \"Ken\" Spain': 0.0,\n",
       " 'John Richard Clawson': 0.0,\n",
       " 'Joseph Henry \"Jo-Jo\" White': 0.0,\n",
       " 'Michael Barnwell \"Mike\" Silliman': 0.0,\n",
       " 'Michael Thomas \"Mike\" Barrett': 0.0,\n",
       " 'Spencer Haywood': 0.0,\n",
       " 'Wilmer Frederick \"Bill\" Hosket': 0.0,\n",
       " 'Christopher Wesson \"Chris\" Bosh': 0.0,\n",
       " 'Dwight David Howard': 0.0,\n",
       " 'Michael Wesley Redd': 0.0,\n",
       " 'Tayshaun Durell Prince': 0.0,\n",
       " 'DeMar Darnell DeRozan': 0.0,\n",
       " 'DeMarcus Amir Cousins': 0.0,\n",
       " 'Draymond Jamal Green': 0.0,\n",
       " 'Harrison Bryce Jordan Barnes': 0.0,\n",
       " 'Hyland DeAndre Jordan, Jr.': 0.0,\n",
       " 'Jimmy Butler III': 0.0,\n",
       " 'Klay Alexander Thompson': 0.0,\n",
       " 'Kyle Lowry': 0.0,\n",
       " 'Kyrie Andrew Irving': 0.0,\n",
       " 'Paul George': 0.0,\n",
       " 'Charles Daniel H. Smith': 0.0,\n",
       " 'Charles Edward Smith, IV': 0.0,\n",
       " 'Daniel Lewis \"Dan\" Majerle': 0.0,\n",
       " 'Daniel Ricardo \"Danny\" Manning': 0.0,\n",
       " 'Herman \"J. R.\" Reid, Jr.': 0.0,\n",
       " 'Hersey R. Hawkins, Jr.': 0.0,\n",
       " 'Jeffrey \"Jeff\" Grayer': 0.0,\n",
       " 'Stacey Orlando Augmon': 0.0,\n",
       " 'Vernell Eufaye \"Bimbo\" Coles': 0.0,\n",
       " 'William Lloyd \"Willie\" Anderson, Jr.': 0.0,\n",
       " 'Charles Monroe \"Charlie\" Hoag': 0.0,\n",
       " 'Clyde Edward Lovellette': 0.0,\n",
       " 'Dan Luther Pippin': 0.0,\n",
       " 'Frank Reilly McCabe': 0.0,\n",
       " 'Howard Earl \"Howie\" Williams': 0.0,\n",
       " 'John Frederick Keller': 0.0,\n",
       " 'Marcus Ross \"Marc\" Freiberger': 0.0,\n",
       " 'Melvin Dean Kelley': 0.0,\n",
       " 'Robert Earl \"Bob\" Kenney': 0.0,\n",
       " 'Ronald Yngve \"Ron\" Bontemps': 0.0,\n",
       " 'Victor Wayne Glasgow': 0.0,\n",
       " 'William Barner \"Bill\" Lienhard': 0.0,\n",
       " 'Charles Thomas \"Tom\" McMillen': 0.0,\n",
       " 'Dwight Elmo Jones': 0.0,\n",
       " 'James Ricardo \"Jim\" Forbes': 0.0,\n",
       " 'James Turner \"Jim\" Brewer': 0.0,\n",
       " 'Kenneth Bryan \"Kenny\" Davis': 0.0,\n",
       " 'Kevin Francis Joyce': 0.0,\n",
       " 'Michael Allen \"Mike\" Bantom': 0.0,\n",
       " 'Paul Douglas \"Doug\" Collins': 0.0,\n",
       " 'Robert Clyde \"Bobby\" Jones': 0.0,\n",
       " 'Thomas Edward \"Tom\" Henderson': 0.0,\n",
       " 'Tommy Loren Burleson': 0.0,\n",
       " 'William Edward \"Ed\" Ratleff': 0.0,\n",
       " 'Christian Donald Laettner': 0.0,\n",
       " 'Clyde Austin Drexler': 0.0,\n",
       " 'Earvin \"Magic\" Johnson, Jr.': 0.0,\n",
       " 'Larry Joe Bird': 0.0,\n",
       " 'George \"Jiff\" Wilson': 0.0,\n",
       " 'Jeffrey Vincent \"Jeff\" Mullins': 0.0,\n",
       " 'Jerry Franklin Shipp': 0.0,\n",
       " 'John Paul \"Pete\" McCaffrey': 0.0,\n",
       " 'Joseph Louis \"Joe\" Caldwell': 0.0,\n",
       " 'Lawrence Harvey \"Larry\" Brown': 0.0,\n",
       " 'Lucious Brown \"Luke\" Jackson, Jr.': 0.0,\n",
       " 'Melvin Grant \"Mel\" Counts': 0.0,\n",
       " 'Richard Allen \"Dick\" Davies': 0.0,\n",
       " 'Velvet James \"Jim\" Barnes': 0.0,\n",
       " 'Walter Raphael \"Walt\" Hazzard': 0.0,\n",
       " 'William Warren \"Bill\" Bradley': 0.0}"
      ]
     },
     "execution_count": 46,
     "metadata": {},
     "output_type": "execute_result"
    }
   ],
   "source": [
    "nx.betweenness_centrality(G, weight='edge')"
   ]
  },
  {
   "cell_type": "code",
   "execution_count": 45,
   "metadata": {
    "ExecuteTime": {
     "end_time": "2020-10-13T21:10:36.245571Z",
     "start_time": "2020-10-13T21:10:36.238168Z"
    }
   },
   "outputs": [
    {
     "ename": "KeyError",
     "evalue": "(0, 1)",
     "output_type": "error",
     "traceback": [
      "\u001b[0;31m--------------------\u001b[0m",
      "\u001b[0;31mKeyError\u001b[0mTraceback (most recent call last)",
      "\u001b[0;32m<ipython-input-45-7c15d168f335>\u001b[0m in \u001b[0;36m<module>\u001b[0;34m\u001b[0m\n\u001b[0;32m----> 1\u001b[0;31m \u001b[0mbubu\u001b[0m\u001b[0;34m[\u001b[0m\u001b[0;36m0\u001b[0m\u001b[0;34m,\u001b[0m\u001b[0;36m1\u001b[0m\u001b[0;34m]\u001b[0m\u001b[0;34m\u001b[0m\u001b[0;34m\u001b[0m\u001b[0m\n\u001b[0m",
      "\u001b[0;31mKeyError\u001b[0m: (0, 1)"
     ]
    }
   ],
   "source": [
    "#No sé cómo coger los cinco primeros, y mira que lo he intentado ;)"
   ]
  },
  {
   "cell_type": "code",
   "execution_count": 47,
   "metadata": {
    "ExecuteTime": {
     "end_time": "2020-10-13T22:02:59.337653Z",
     "start_time": "2020-10-13T22:02:59.277024Z"
    }
   },
   "outputs": [
    {
     "data": {
      "text/plain": [
       "[('Gary Dwayne Payton', 0.09193761564895586),\n",
       " ('Jason Frederick Kidd', 0.09135606661379858),\n",
       " ('Carmelo Kyan Anthony', 0.04742268041237115),\n",
       " ('David Maurice Robinson', 0.03266190853819722),\n",
       " ('William Marion \"Bill\" Hougland', 0.030240549828178694)]"
      ]
     },
     "execution_count": 47,
     "metadata": {},
     "output_type": "execute_result"
    }
   ],
   "source": [
    "#No entiendo cómo Lola ha conseguido descifrar o crear este código... no entiendo nada...\n",
    "\n",
    "# Obtain the betweenness centrality\n",
    "bc = nx.betweenness_centrality(G)\n",
    "\n",
    "# Sort the values\n",
    "bc_sorted = {k: v for k, v in sorted(bc.items(), key=lambda item: item[1], reverse=True)}\n",
    "\n",
    "# Obtain the top 5\n",
    "list(bc_sorted.items())[:5]"
   ]
  },
  {
   "cell_type": "markdown",
   "metadata": {},
   "source": [
    "## 5. Compute Eigenvector centrality for the graph and print the top 5 nodes with the highest centrality."
   ]
  },
  {
   "cell_type": "code",
   "execution_count": 48,
   "metadata": {
    "ExecuteTime": {
     "end_time": "2020-10-13T22:03:12.471892Z",
     "start_time": "2020-10-13T22:03:12.386948Z"
    }
   },
   "outputs": [
    {
     "data": {
      "text/plain": [
       "[('Carmelo Kyan Anthony', 0.34185005667190693),\n",
       " ('LeBron Raymone James', 0.2884535214315888),\n",
       " ('Christopher Emmanuel \"Chris\" Paul', 0.22431681558531258),\n",
       " ('Kobe Bean Bryant', 0.2243168155853125),\n",
       " ('Deron Michael Williams', 0.22431681558531244)]"
      ]
     },
     "execution_count": 48,
     "metadata": {},
     "output_type": "execute_result"
    }
   ],
   "source": [
    "ec = nx.eigenvector_centrality_numpy(G)\n",
    "\n",
    "# Sort the values\n",
    "ec_sorted = {k: v for k, v in sorted(ec.items(), key=lambda item: item[1], reverse=True)}\n",
    "\n",
    "# Obtain the top 5\n",
    "list(ec_sorted.items())[:5]"
   ]
  },
  {
   "cell_type": "markdown",
   "metadata": {},
   "source": [
    "## 6. Compute degree centrality for the graph and print the top 5 nodes with the highest centrality."
   ]
  },
  {
   "cell_type": "code",
   "execution_count": 49,
   "metadata": {
    "ExecuteTime": {
     "end_time": "2020-10-13T22:03:22.425968Z",
     "start_time": "2020-10-13T22:03:22.419916Z"
    }
   },
   "outputs": [
    {
     "data": {
      "text/plain": [
       "[('Carmelo Kyan Anthony', 0.18461538461538463),\n",
       " ('David Maurice Robinson', 0.14358974358974358),\n",
       " ('Robert Albert \"Bob\" Kurland', 0.13333333333333333),\n",
       " ('LeBron Raymone James', 0.13333333333333333),\n",
       " ('William Marion \"Bill\" Hougland', 0.12307692307692308)]"
      ]
     },
     "execution_count": 49,
     "metadata": {},
     "output_type": "execute_result"
    }
   ],
   "source": [
    "dc = nx.degree_centrality(G)\n",
    "\n",
    "# Sort the values\n",
    "dc_sorted = {k: v for k, v in sorted(dc.items(), key=lambda item: item[1], reverse=True)}\n",
    "\n",
    "# Obtain the top 5\n",
    "list(dc_sorted.items())[:5]"
   ]
  },
  {
   "cell_type": "markdown",
   "metadata": {},
   "source": [
    "## 7. Generate a network visualization for the entire graph using a Kamada-Kawai force-directed layout."
   ]
  },
  {
   "cell_type": "markdown",
   "metadata": {},
   "source": [
    "#A partir de aquí, no he conseguido que me salieran estas redes pero me cojo de referencia código que debería funcionar para cuando tenga tiempo de mirármelo :("
   ]
  },
  {
   "cell_type": "code",
   "execution_count": 52,
   "metadata": {
    "ExecuteTime": {
     "end_time": "2020-10-13T22:04:02.969632Z",
     "start_time": "2020-10-13T22:04:02.649542Z"
    }
   },
   "outputs": [
    {
     "ename": "ImportError",
     "evalue": "cannot import name '_png' from 'matplotlib' (/Users/blancurri/opt/anaconda3/lib/python3.7/site-packages/matplotlib/__init__.py)",
     "output_type": "error",
     "traceback": [
      "\u001b[0;31m--------------------\u001b[0m",
      "\u001b[0;31mImportError\u001b[0mTraceback (most recent call last)",
      "\u001b[0;32m~/opt/anaconda3/lib/python3.7/site-packages/IPython/core/formatters.py\u001b[0m in \u001b[0;36m__call__\u001b[0;34m(self, obj)\u001b[0m\n\u001b[1;32m    339\u001b[0m                 \u001b[0;32mpass\u001b[0m\u001b[0;34m\u001b[0m\u001b[0;34m\u001b[0m\u001b[0m\n\u001b[1;32m    340\u001b[0m             \u001b[0;32melse\u001b[0m\u001b[0;34m:\u001b[0m\u001b[0;34m\u001b[0m\u001b[0;34m\u001b[0m\u001b[0m\n\u001b[0;32m--> 341\u001b[0;31m                 \u001b[0;32mreturn\u001b[0m \u001b[0mprinter\u001b[0m\u001b[0;34m(\u001b[0m\u001b[0mobj\u001b[0m\u001b[0;34m)\u001b[0m\u001b[0;34m\u001b[0m\u001b[0;34m\u001b[0m\u001b[0m\n\u001b[0m\u001b[1;32m    342\u001b[0m             \u001b[0;31m# Finally look for special method names\u001b[0m\u001b[0;34m\u001b[0m\u001b[0;34m\u001b[0m\u001b[0;34m\u001b[0m\u001b[0m\n\u001b[1;32m    343\u001b[0m             \u001b[0mmethod\u001b[0m \u001b[0;34m=\u001b[0m \u001b[0mget_real_method\u001b[0m\u001b[0;34m(\u001b[0m\u001b[0mobj\u001b[0m\u001b[0;34m,\u001b[0m \u001b[0mself\u001b[0m\u001b[0;34m.\u001b[0m\u001b[0mprint_method\u001b[0m\u001b[0;34m)\u001b[0m\u001b[0;34m\u001b[0m\u001b[0;34m\u001b[0m\u001b[0m\n",
      "\u001b[0;32m~/opt/anaconda3/lib/python3.7/site-packages/IPython/core/pylabtools.py\u001b[0m in \u001b[0;36m<lambda>\u001b[0;34m(fig)\u001b[0m\n\u001b[1;32m    246\u001b[0m \u001b[0;34m\u001b[0m\u001b[0m\n\u001b[1;32m    247\u001b[0m     \u001b[0;32mif\u001b[0m \u001b[0;34m'png'\u001b[0m \u001b[0;32min\u001b[0m \u001b[0mformats\u001b[0m\u001b[0;34m:\u001b[0m\u001b[0;34m\u001b[0m\u001b[0;34m\u001b[0m\u001b[0m\n\u001b[0;32m--> 248\u001b[0;31m         \u001b[0mpng_formatter\u001b[0m\u001b[0;34m.\u001b[0m\u001b[0mfor_type\u001b[0m\u001b[0;34m(\u001b[0m\u001b[0mFigure\u001b[0m\u001b[0;34m,\u001b[0m \u001b[0;32mlambda\u001b[0m \u001b[0mfig\u001b[0m\u001b[0;34m:\u001b[0m \u001b[0mprint_figure\u001b[0m\u001b[0;34m(\u001b[0m\u001b[0mfig\u001b[0m\u001b[0;34m,\u001b[0m \u001b[0;34m'png'\u001b[0m\u001b[0;34m,\u001b[0m \u001b[0;34m**\u001b[0m\u001b[0mkwargs\u001b[0m\u001b[0;34m)\u001b[0m\u001b[0;34m)\u001b[0m\u001b[0;34m\u001b[0m\u001b[0;34m\u001b[0m\u001b[0m\n\u001b[0m\u001b[1;32m    249\u001b[0m     \u001b[0;32mif\u001b[0m \u001b[0;34m'retina'\u001b[0m \u001b[0;32min\u001b[0m \u001b[0mformats\u001b[0m \u001b[0;32mor\u001b[0m \u001b[0;34m'png2x'\u001b[0m \u001b[0;32min\u001b[0m \u001b[0mformats\u001b[0m\u001b[0;34m:\u001b[0m\u001b[0;34m\u001b[0m\u001b[0;34m\u001b[0m\u001b[0m\n\u001b[1;32m    250\u001b[0m         \u001b[0mpng_formatter\u001b[0m\u001b[0;34m.\u001b[0m\u001b[0mfor_type\u001b[0m\u001b[0;34m(\u001b[0m\u001b[0mFigure\u001b[0m\u001b[0;34m,\u001b[0m \u001b[0;32mlambda\u001b[0m \u001b[0mfig\u001b[0m\u001b[0;34m:\u001b[0m \u001b[0mretina_figure\u001b[0m\u001b[0;34m(\u001b[0m\u001b[0mfig\u001b[0m\u001b[0;34m,\u001b[0m \u001b[0;34m**\u001b[0m\u001b[0mkwargs\u001b[0m\u001b[0;34m)\u001b[0m\u001b[0;34m)\u001b[0m\u001b[0;34m\u001b[0m\u001b[0;34m\u001b[0m\u001b[0m\n",
      "\u001b[0;32m~/opt/anaconda3/lib/python3.7/site-packages/IPython/core/pylabtools.py\u001b[0m in \u001b[0;36mprint_figure\u001b[0;34m(fig, fmt, bbox_inches, **kwargs)\u001b[0m\n\u001b[1;32m    130\u001b[0m         \u001b[0mFigureCanvasBase\u001b[0m\u001b[0;34m(\u001b[0m\u001b[0mfig\u001b[0m\u001b[0;34m)\u001b[0m\u001b[0;34m\u001b[0m\u001b[0;34m\u001b[0m\u001b[0m\n\u001b[1;32m    131\u001b[0m \u001b[0;34m\u001b[0m\u001b[0m\n\u001b[0;32m--> 132\u001b[0;31m     \u001b[0mfig\u001b[0m\u001b[0;34m.\u001b[0m\u001b[0mcanvas\u001b[0m\u001b[0;34m.\u001b[0m\u001b[0mprint_figure\u001b[0m\u001b[0;34m(\u001b[0m\u001b[0mbytes_io\u001b[0m\u001b[0;34m,\u001b[0m \u001b[0;34m**\u001b[0m\u001b[0mkw\u001b[0m\u001b[0;34m)\u001b[0m\u001b[0;34m\u001b[0m\u001b[0;34m\u001b[0m\u001b[0m\n\u001b[0m\u001b[1;32m    133\u001b[0m     \u001b[0mdata\u001b[0m \u001b[0;34m=\u001b[0m \u001b[0mbytes_io\u001b[0m\u001b[0;34m.\u001b[0m\u001b[0mgetvalue\u001b[0m\u001b[0;34m(\u001b[0m\u001b[0;34m)\u001b[0m\u001b[0;34m\u001b[0m\u001b[0;34m\u001b[0m\u001b[0m\n\u001b[1;32m    134\u001b[0m     \u001b[0;32mif\u001b[0m \u001b[0mfmt\u001b[0m \u001b[0;34m==\u001b[0m \u001b[0;34m'svg'\u001b[0m\u001b[0;34m:\u001b[0m\u001b[0;34m\u001b[0m\u001b[0;34m\u001b[0m\u001b[0m\n",
      "\u001b[0;32m~/opt/anaconda3/lib/python3.7/site-packages/matplotlib/backend_bases.py\u001b[0m in \u001b[0;36mprint_figure\u001b[0;34m(self, filename, dpi, facecolor, edgecolor, orientation, format, bbox_inches, **kwargs)\u001b[0m\n\u001b[1;32m   2063\u001b[0m             \u001b[0;31m# Return a specific canvas class, if requested.\u001b[0m\u001b[0;34m\u001b[0m\u001b[0;34m\u001b[0m\u001b[0;34m\u001b[0m\u001b[0m\n\u001b[1;32m   2064\u001b[0m             canvas_class = (\n\u001b[0;32m-> 2065\u001b[0;31m                 \u001b[0mimportlib\u001b[0m\u001b[0;34m.\u001b[0m\u001b[0mimport_module\u001b[0m\u001b[0;34m(\u001b[0m\u001b[0mcbook\u001b[0m\u001b[0;34m.\u001b[0m\u001b[0m_backend_module_name\u001b[0m\u001b[0;34m(\u001b[0m\u001b[0mbackend\u001b[0m\u001b[0;34m)\u001b[0m\u001b[0;34m)\u001b[0m\u001b[0;34m\u001b[0m\u001b[0;34m\u001b[0m\u001b[0m\n\u001b[0m\u001b[1;32m   2066\u001b[0m                 .FigureCanvas)\n\u001b[1;32m   2067\u001b[0m             \u001b[0;32mif\u001b[0m \u001b[0;32mnot\u001b[0m \u001b[0mhasattr\u001b[0m\u001b[0;34m(\u001b[0m\u001b[0mcanvas_class\u001b[0m\u001b[0;34m,\u001b[0m \u001b[0;34mf\"print_{fmt}\"\u001b[0m\u001b[0;34m)\u001b[0m\u001b[0;34m:\u001b[0m\u001b[0;34m\u001b[0m\u001b[0;34m\u001b[0m\u001b[0m\n",
      "\u001b[0;32m~/opt/anaconda3/lib/python3.7/site-packages/matplotlib/backends/backend_agg.py\u001b[0m in \u001b[0;36mprint_png\u001b[0;34m(self, filename_or_obj, metadata, pil_kwargs, *args, **kwargs)\u001b[0m\n\u001b[1;32m    499\u001b[0m \u001b[0;34m\u001b[0m\u001b[0m\n\u001b[1;32m    500\u001b[0m             \u001b[0;34m.\u001b[0m\u001b[0;34m.\u001b[0m \u001b[0m_PNG\u001b[0m \u001b[0mspecification\u001b[0m\u001b[0;34m:\u001b[0m\u001b[0;31m \u001b[0m\u001b[0;31m\\\u001b[0m\u001b[0;34m\u001b[0m\u001b[0;34m\u001b[0m\u001b[0m\n\u001b[0;32m--> 501\u001b[0;31m                 \u001b[0mhttps\u001b[0m\u001b[0;34m:\u001b[0m\u001b[0;34m//\u001b[0m\u001b[0mwww\u001b[0m\u001b[0;34m.\u001b[0m\u001b[0mw3\u001b[0m\u001b[0;34m.\u001b[0m\u001b[0morg\u001b[0m\u001b[0;34m/\u001b[0m\u001b[0mTR\u001b[0m\u001b[0;34m/\u001b[0m\u001b[0;36m2003\u001b[0m\u001b[0;34m/\u001b[0m\u001b[0mREC\u001b[0m\u001b[0;34m-\u001b[0m\u001b[0mPNG\u001b[0m\u001b[0;34m-\u001b[0m\u001b[0;36m20031110\u001b[0m\u001b[0;34m/\u001b[0m\u001b[0;31m#11keywords\u001b[0m\u001b[0;34m\u001b[0m\u001b[0;34m\u001b[0m\u001b[0m\n\u001b[0m\u001b[1;32m    502\u001b[0m \u001b[0;34m\u001b[0m\u001b[0m\n\u001b[1;32m    503\u001b[0m         \u001b[0mpil_kwargs\u001b[0m \u001b[0;34m:\u001b[0m \u001b[0mdict\u001b[0m\u001b[0;34m,\u001b[0m \u001b[0moptional\u001b[0m\u001b[0;34m\u001b[0m\u001b[0;34m\u001b[0m\u001b[0m\n",
      "\u001b[0;31mImportError\u001b[0m: cannot import name '_png' from 'matplotlib' (/Users/blancurri/opt/anaconda3/lib/python3.7/site-packages/matplotlib/__init__.py)"
     ]
    },
    {
     "data": {
      "text/plain": [
       "<Figure size 1008x576 with 1 Axes>"
      ]
     },
     "metadata": {},
     "output_type": "display_data"
    }
   ],
   "source": [
    "plt.figure(figsize=(14,8))\n",
    "\n",
    "nx.draw_kamada_kawai(G, node_size=80, alpha=0.75, width=0.75)"
   ]
  },
  {
   "cell_type": "markdown",
   "metadata": {},
   "source": [
    "## 8. Create and visualize an ego graph for the player with the highest betweenness centrality."
   ]
  },
  {
   "cell_type": "code",
   "execution_count": 53,
   "metadata": {
    "ExecuteTime": {
     "end_time": "2020-10-13T22:04:40.210666Z",
     "start_time": "2020-10-13T22:04:40.163601Z"
    }
   },
   "outputs": [
    {
     "ename": "ImportError",
     "evalue": "cannot import name '_png' from 'matplotlib' (/Users/blancurri/opt/anaconda3/lib/python3.7/site-packages/matplotlib/__init__.py)",
     "output_type": "error",
     "traceback": [
      "\u001b[0;31m--------------------\u001b[0m",
      "\u001b[0;31mImportError\u001b[0mTraceback (most recent call last)",
      "\u001b[0;32m~/opt/anaconda3/lib/python3.7/site-packages/IPython/core/formatters.py\u001b[0m in \u001b[0;36m__call__\u001b[0;34m(self, obj)\u001b[0m\n\u001b[1;32m    339\u001b[0m                 \u001b[0;32mpass\u001b[0m\u001b[0;34m\u001b[0m\u001b[0;34m\u001b[0m\u001b[0m\n\u001b[1;32m    340\u001b[0m             \u001b[0;32melse\u001b[0m\u001b[0;34m:\u001b[0m\u001b[0;34m\u001b[0m\u001b[0;34m\u001b[0m\u001b[0m\n\u001b[0;32m--> 341\u001b[0;31m                 \u001b[0;32mreturn\u001b[0m \u001b[0mprinter\u001b[0m\u001b[0;34m(\u001b[0m\u001b[0mobj\u001b[0m\u001b[0;34m)\u001b[0m\u001b[0;34m\u001b[0m\u001b[0;34m\u001b[0m\u001b[0m\n\u001b[0m\u001b[1;32m    342\u001b[0m             \u001b[0;31m# Finally look for special method names\u001b[0m\u001b[0;34m\u001b[0m\u001b[0;34m\u001b[0m\u001b[0;34m\u001b[0m\u001b[0m\n\u001b[1;32m    343\u001b[0m             \u001b[0mmethod\u001b[0m \u001b[0;34m=\u001b[0m \u001b[0mget_real_method\u001b[0m\u001b[0;34m(\u001b[0m\u001b[0mobj\u001b[0m\u001b[0;34m,\u001b[0m \u001b[0mself\u001b[0m\u001b[0;34m.\u001b[0m\u001b[0mprint_method\u001b[0m\u001b[0;34m)\u001b[0m\u001b[0;34m\u001b[0m\u001b[0;34m\u001b[0m\u001b[0m\n",
      "\u001b[0;32m~/opt/anaconda3/lib/python3.7/site-packages/IPython/core/pylabtools.py\u001b[0m in \u001b[0;36m<lambda>\u001b[0;34m(fig)\u001b[0m\n\u001b[1;32m    246\u001b[0m \u001b[0;34m\u001b[0m\u001b[0m\n\u001b[1;32m    247\u001b[0m     \u001b[0;32mif\u001b[0m \u001b[0;34m'png'\u001b[0m \u001b[0;32min\u001b[0m \u001b[0mformats\u001b[0m\u001b[0;34m:\u001b[0m\u001b[0;34m\u001b[0m\u001b[0;34m\u001b[0m\u001b[0m\n\u001b[0;32m--> 248\u001b[0;31m         \u001b[0mpng_formatter\u001b[0m\u001b[0;34m.\u001b[0m\u001b[0mfor_type\u001b[0m\u001b[0;34m(\u001b[0m\u001b[0mFigure\u001b[0m\u001b[0;34m,\u001b[0m \u001b[0;32mlambda\u001b[0m \u001b[0mfig\u001b[0m\u001b[0;34m:\u001b[0m \u001b[0mprint_figure\u001b[0m\u001b[0;34m(\u001b[0m\u001b[0mfig\u001b[0m\u001b[0;34m,\u001b[0m \u001b[0;34m'png'\u001b[0m\u001b[0;34m,\u001b[0m \u001b[0;34m**\u001b[0m\u001b[0mkwargs\u001b[0m\u001b[0;34m)\u001b[0m\u001b[0;34m)\u001b[0m\u001b[0;34m\u001b[0m\u001b[0;34m\u001b[0m\u001b[0m\n\u001b[0m\u001b[1;32m    249\u001b[0m     \u001b[0;32mif\u001b[0m \u001b[0;34m'retina'\u001b[0m \u001b[0;32min\u001b[0m \u001b[0mformats\u001b[0m \u001b[0;32mor\u001b[0m \u001b[0;34m'png2x'\u001b[0m \u001b[0;32min\u001b[0m \u001b[0mformats\u001b[0m\u001b[0;34m:\u001b[0m\u001b[0;34m\u001b[0m\u001b[0;34m\u001b[0m\u001b[0m\n\u001b[1;32m    250\u001b[0m         \u001b[0mpng_formatter\u001b[0m\u001b[0;34m.\u001b[0m\u001b[0mfor_type\u001b[0m\u001b[0;34m(\u001b[0m\u001b[0mFigure\u001b[0m\u001b[0;34m,\u001b[0m \u001b[0;32mlambda\u001b[0m \u001b[0mfig\u001b[0m\u001b[0;34m:\u001b[0m \u001b[0mretina_figure\u001b[0m\u001b[0;34m(\u001b[0m\u001b[0mfig\u001b[0m\u001b[0;34m,\u001b[0m \u001b[0;34m**\u001b[0m\u001b[0mkwargs\u001b[0m\u001b[0;34m)\u001b[0m\u001b[0;34m)\u001b[0m\u001b[0;34m\u001b[0m\u001b[0;34m\u001b[0m\u001b[0m\n",
      "\u001b[0;32m~/opt/anaconda3/lib/python3.7/site-packages/IPython/core/pylabtools.py\u001b[0m in \u001b[0;36mprint_figure\u001b[0;34m(fig, fmt, bbox_inches, **kwargs)\u001b[0m\n\u001b[1;32m    130\u001b[0m         \u001b[0mFigureCanvasBase\u001b[0m\u001b[0;34m(\u001b[0m\u001b[0mfig\u001b[0m\u001b[0;34m)\u001b[0m\u001b[0;34m\u001b[0m\u001b[0;34m\u001b[0m\u001b[0m\n\u001b[1;32m    131\u001b[0m \u001b[0;34m\u001b[0m\u001b[0m\n\u001b[0;32m--> 132\u001b[0;31m     \u001b[0mfig\u001b[0m\u001b[0;34m.\u001b[0m\u001b[0mcanvas\u001b[0m\u001b[0;34m.\u001b[0m\u001b[0mprint_figure\u001b[0m\u001b[0;34m(\u001b[0m\u001b[0mbytes_io\u001b[0m\u001b[0;34m,\u001b[0m \u001b[0;34m**\u001b[0m\u001b[0mkw\u001b[0m\u001b[0;34m)\u001b[0m\u001b[0;34m\u001b[0m\u001b[0;34m\u001b[0m\u001b[0m\n\u001b[0m\u001b[1;32m    133\u001b[0m     \u001b[0mdata\u001b[0m \u001b[0;34m=\u001b[0m \u001b[0mbytes_io\u001b[0m\u001b[0;34m.\u001b[0m\u001b[0mgetvalue\u001b[0m\u001b[0;34m(\u001b[0m\u001b[0;34m)\u001b[0m\u001b[0;34m\u001b[0m\u001b[0;34m\u001b[0m\u001b[0m\n\u001b[1;32m    134\u001b[0m     \u001b[0;32mif\u001b[0m \u001b[0mfmt\u001b[0m \u001b[0;34m==\u001b[0m \u001b[0;34m'svg'\u001b[0m\u001b[0;34m:\u001b[0m\u001b[0;34m\u001b[0m\u001b[0;34m\u001b[0m\u001b[0m\n",
      "\u001b[0;32m~/opt/anaconda3/lib/python3.7/site-packages/matplotlib/backend_bases.py\u001b[0m in \u001b[0;36mprint_figure\u001b[0;34m(self, filename, dpi, facecolor, edgecolor, orientation, format, bbox_inches, **kwargs)\u001b[0m\n\u001b[1;32m   2063\u001b[0m             \u001b[0;31m# Return a specific canvas class, if requested.\u001b[0m\u001b[0;34m\u001b[0m\u001b[0;34m\u001b[0m\u001b[0;34m\u001b[0m\u001b[0m\n\u001b[1;32m   2064\u001b[0m             canvas_class = (\n\u001b[0;32m-> 2065\u001b[0;31m                 \u001b[0mimportlib\u001b[0m\u001b[0;34m.\u001b[0m\u001b[0mimport_module\u001b[0m\u001b[0;34m(\u001b[0m\u001b[0mcbook\u001b[0m\u001b[0;34m.\u001b[0m\u001b[0m_backend_module_name\u001b[0m\u001b[0;34m(\u001b[0m\u001b[0mbackend\u001b[0m\u001b[0;34m)\u001b[0m\u001b[0;34m)\u001b[0m\u001b[0;34m\u001b[0m\u001b[0;34m\u001b[0m\u001b[0m\n\u001b[0m\u001b[1;32m   2066\u001b[0m                 .FigureCanvas)\n\u001b[1;32m   2067\u001b[0m             \u001b[0;32mif\u001b[0m \u001b[0;32mnot\u001b[0m \u001b[0mhasattr\u001b[0m\u001b[0;34m(\u001b[0m\u001b[0mcanvas_class\u001b[0m\u001b[0;34m,\u001b[0m \u001b[0;34mf\"print_{fmt}\"\u001b[0m\u001b[0;34m)\u001b[0m\u001b[0;34m:\u001b[0m\u001b[0;34m\u001b[0m\u001b[0;34m\u001b[0m\u001b[0m\n",
      "\u001b[0;32m~/opt/anaconda3/lib/python3.7/site-packages/matplotlib/backends/backend_agg.py\u001b[0m in \u001b[0;36mprint_png\u001b[0;34m(self, filename_or_obj, metadata, pil_kwargs, *args, **kwargs)\u001b[0m\n\u001b[1;32m    499\u001b[0m \u001b[0;34m\u001b[0m\u001b[0m\n\u001b[1;32m    500\u001b[0m             \u001b[0;34m.\u001b[0m\u001b[0;34m.\u001b[0m \u001b[0m_PNG\u001b[0m \u001b[0mspecification\u001b[0m\u001b[0;34m:\u001b[0m\u001b[0;31m \u001b[0m\u001b[0;31m\\\u001b[0m\u001b[0;34m\u001b[0m\u001b[0;34m\u001b[0m\u001b[0m\n\u001b[0;32m--> 501\u001b[0;31m                 \u001b[0mhttps\u001b[0m\u001b[0;34m:\u001b[0m\u001b[0;34m//\u001b[0m\u001b[0mwww\u001b[0m\u001b[0;34m.\u001b[0m\u001b[0mw3\u001b[0m\u001b[0;34m.\u001b[0m\u001b[0morg\u001b[0m\u001b[0;34m/\u001b[0m\u001b[0mTR\u001b[0m\u001b[0;34m/\u001b[0m\u001b[0;36m2003\u001b[0m\u001b[0;34m/\u001b[0m\u001b[0mREC\u001b[0m\u001b[0;34m-\u001b[0m\u001b[0mPNG\u001b[0m\u001b[0;34m-\u001b[0m\u001b[0;36m20031110\u001b[0m\u001b[0;34m/\u001b[0m\u001b[0;31m#11keywords\u001b[0m\u001b[0;34m\u001b[0m\u001b[0;34m\u001b[0m\u001b[0m\n\u001b[0m\u001b[1;32m    502\u001b[0m \u001b[0;34m\u001b[0m\u001b[0m\n\u001b[1;32m    503\u001b[0m         \u001b[0mpil_kwargs\u001b[0m \u001b[0;34m:\u001b[0m \u001b[0mdict\u001b[0m\u001b[0;34m,\u001b[0m \u001b[0moptional\u001b[0m\u001b[0;34m\u001b[0m\u001b[0;34m\u001b[0m\u001b[0m\n",
      "\u001b[0;31mImportError\u001b[0m: cannot import name '_png' from 'matplotlib' (/Users/blancurri/opt/anaconda3/lib/python3.7/site-packages/matplotlib/__init__.py)"
     ]
    },
    {
     "data": {
      "text/plain": [
       "<Figure size 1008x576 with 1 Axes>"
      ]
     },
     "metadata": {},
     "output_type": "display_data"
    }
   ],
   "source": [
    "plt.figure(figsize=(14,8))\n",
    "\n",
    "ego = nx.ego_graph(G, 'Gary Dwayne Payton', radius=1)\n",
    "\n",
    "# Draw the graph\n",
    "nx.draw_kamada_kawai(ego, node_size=80, with_labels=True, alpha=0.8)"
   ]
  },
  {
   "cell_type": "markdown",
   "metadata": {},
   "source": [
    "## 9. Identify the communities within the entire graph and produce another visualization of it with the nodes color-coded by the community they belong to."
   ]
  },
  {
   "cell_type": "code",
   "execution_count": 55,
   "metadata": {
    "ExecuteTime": {
     "end_time": "2020-10-13T22:05:01.230021Z",
     "start_time": "2020-10-13T22:05:01.221579Z"
    }
   },
   "outputs": [
    {
     "ename": "NameError",
     "evalue": "name 'louvain' is not defined",
     "output_type": "error",
     "traceback": [
      "\u001b[0;31m--------------------\u001b[0m",
      "\u001b[0;31mNameError\u001b[0mTraceback (most recent call last)",
      "\u001b[0;32m<ipython-input-55-c2ee0baf9543>\u001b[0m in \u001b[0;36m<module>\u001b[0;34m\u001b[0m\n\u001b[1;32m      1\u001b[0m \u001b[0;31m# Create a dictionary containing the name of each node and which community it has been grouped into\u001b[0m\u001b[0;34m\u001b[0m\u001b[0;34m\u001b[0m\u001b[0;34m\u001b[0m\u001b[0m\n\u001b[0;32m----> 2\u001b[0;31m \u001b[0mpartition\u001b[0m \u001b[0;34m=\u001b[0m \u001b[0mlouvain\u001b[0m\u001b[0;34m.\u001b[0m\u001b[0mbest_partition\u001b[0m\u001b[0;34m(\u001b[0m\u001b[0mG\u001b[0m\u001b[0;34m)\u001b[0m\u001b[0;34m\u001b[0m\u001b[0;34m\u001b[0m\u001b[0m\n\u001b[0m\u001b[1;32m      3\u001b[0m \u001b[0;34m\u001b[0m\u001b[0m\n\u001b[1;32m      4\u001b[0m \u001b[0;31m# extract the values of this dictionary to be passed to the node_color\u001b[0m\u001b[0;34m\u001b[0m\u001b[0;34m\u001b[0m\u001b[0;34m\u001b[0m\u001b[0m\n\u001b[1;32m      5\u001b[0m \u001b[0mvalues\u001b[0m \u001b[0;34m=\u001b[0m \u001b[0mlist\u001b[0m\u001b[0;34m(\u001b[0m\u001b[0mpartition\u001b[0m\u001b[0;34m.\u001b[0m\u001b[0mvalues\u001b[0m\u001b[0;34m(\u001b[0m\u001b[0;34m)\u001b[0m\u001b[0;34m)\u001b[0m\u001b[0;34m\u001b[0m\u001b[0;34m\u001b[0m\u001b[0m\n",
      "\u001b[0;31mNameError\u001b[0m: name 'louvain' is not defined"
     ]
    }
   ],
   "source": [
    "# Create a dictionary containing the name of each node and which community it has been grouped into\n",
    "partition = louvain.best_partition(G)\n",
    "\n",
    "# extract the values of this dictionary to be passed to the node_color\n",
    "values = list(partition.values())"
   ]
  },
  {
   "cell_type": "code",
   "execution_count": 56,
   "metadata": {
    "ExecuteTime": {
     "end_time": "2020-10-13T22:05:01.591148Z",
     "start_time": "2020-10-13T22:05:01.581725Z"
    }
   },
   "outputs": [
    {
     "ename": "NameError",
     "evalue": "name 'values' is not defined",
     "output_type": "error",
     "traceback": [
      "\u001b[0;31m--------------------\u001b[0m",
      "\u001b[0;31mNameError\u001b[0mTraceback (most recent call last)",
      "\u001b[0;32m<ipython-input-56-a05bbe736e39>\u001b[0m in \u001b[0;36m<module>\u001b[0;34m\u001b[0m\n\u001b[1;32m      2\u001b[0m \u001b[0;34m\u001b[0m\u001b[0m\n\u001b[1;32m      3\u001b[0m \u001b[0;31m# Do the plot\u001b[0m\u001b[0;34m\u001b[0m\u001b[0;34m\u001b[0m\u001b[0;34m\u001b[0m\u001b[0m\n\u001b[0;32m----> 4\u001b[0;31m \u001b[0mnx\u001b[0m\u001b[0;34m.\u001b[0m\u001b[0mdraw_kamada_kawai\u001b[0m\u001b[0;34m(\u001b[0m\u001b[0mG\u001b[0m\u001b[0;34m,\u001b[0m \u001b[0mnode_size\u001b[0m\u001b[0;34m=\u001b[0m\u001b[0;36m100\u001b[0m\u001b[0;34m,\u001b[0m \u001b[0malpha\u001b[0m\u001b[0;34m=\u001b[0m\u001b[0;36m0.8\u001b[0m\u001b[0;34m,\u001b[0m \u001b[0mwidth\u001b[0m\u001b[0;34m=\u001b[0m\u001b[0;36m0.5\u001b[0m\u001b[0;34m,\u001b[0m\u001b[0mnode_color\u001b[0m\u001b[0;34m=\u001b[0m\u001b[0mvalues\u001b[0m\u001b[0;34m,\u001b[0m \u001b[0mcmap\u001b[0m\u001b[0;34m=\u001b[0m\u001b[0;34m\"jet\"\u001b[0m\u001b[0;34m)\u001b[0m\u001b[0;34m\u001b[0m\u001b[0;34m\u001b[0m\u001b[0m\n\u001b[0m",
      "\u001b[0;31mNameError\u001b[0m: name 'values' is not defined"
     ]
    },
    {
     "data": {
      "text/plain": [
       "<Figure size 1008x576 with 0 Axes>"
      ]
     },
     "metadata": {},
     "output_type": "display_data"
    }
   ],
   "source": [
    "plt.figure(figsize=(14,8))\n",
    "\n",
    "# Do the plot\n",
    "nx.draw_kamada_kawai(G, node_size=100, alpha=0.8, width=0.5,node_color=values, cmap=\"jet\")"
   ]
  },
  {
   "cell_type": "markdown",
   "metadata": {},
   "source": [
    "## Bonus: Hierarchical Graphs\n",
    "\n",
    "Thus far, we have analyzed graphs where the nodes represented individual players and the edges represented Olympic games that they have competed in together. We can analyze the data at a higher level if we wanted to, strippping out the players as entities and analyzing the data at the Games level. To do this, we would need to reconstruct the graph so that the *Games* field represents the entities and then use the player names as the edge criteria so that there would be an edge between two Olympic games if an player played in both of them. You already have the tools in your toolbox to be able to do this, so give it a try. "
   ]
  },
  {
   "cell_type": "markdown",
   "metadata": {},
   "source": [
    "### Create a graph with Games as the entities and then print out the graph statistics."
   ]
  },
  {
   "cell_type": "code",
   "execution_count": null,
   "metadata": {},
   "outputs": [],
   "source": []
  },
  {
   "cell_type": "markdown",
   "metadata": {},
   "source": [
    "### Generate a network visualization of this graph using the layout of your choice."
   ]
  },
  {
   "cell_type": "code",
   "execution_count": null,
   "metadata": {},
   "outputs": [],
   "source": []
  }
 ],
 "metadata": {
  "kernelspec": {
   "display_name": "Python 3",
   "language": "python",
   "name": "python3"
  },
  "language_info": {
   "codemirror_mode": {
    "name": "ipython",
    "version": 3
   },
   "file_extension": ".py",
   "mimetype": "text/x-python",
   "name": "python",
   "nbconvert_exporter": "python",
   "pygments_lexer": "ipython3",
   "version": "3.7.6"
  },
  "toc": {
   "base_numbering": 1,
   "nav_menu": {},
   "number_sections": true,
   "sideBar": true,
   "skip_h1_title": false,
   "title_cell": "Table of Contents",
   "title_sidebar": "Contents",
   "toc_cell": false,
   "toc_position": {},
   "toc_section_display": true,
   "toc_window_display": false
  },
  "varInspector": {
   "cols": {
    "lenName": 16,
    "lenType": 16,
    "lenVar": 40
   },
   "kernels_config": {
    "python": {
     "delete_cmd_postfix": "",
     "delete_cmd_prefix": "del ",
     "library": "var_list.py",
     "varRefreshCmd": "print(var_dic_list())"
    },
    "r": {
     "delete_cmd_postfix": ") ",
     "delete_cmd_prefix": "rm(",
     "library": "var_list.r",
     "varRefreshCmd": "cat(var_dic_list()) "
    }
   },
   "types_to_exclude": [
    "module",
    "function",
    "builtin_function_or_method",
    "instance",
    "_Feature"
   ],
   "window_display": false
  }
 },
 "nbformat": 4,
 "nbformat_minor": 2
}
